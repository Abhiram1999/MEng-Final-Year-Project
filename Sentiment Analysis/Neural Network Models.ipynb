{
 "cells": [
  {
   "cell_type": "code",
   "execution_count": 4,
   "metadata": {
    "id": "XeyecLlwdBLu"
   },
   "outputs": [],
   "source": [
    "from datasets import load_dataset\n",
    "import torch\n",
    "import matplotlib.pyplot as plt\n",
    "import numpy as np\n",
    "import seaborn as sns\n",
    "import pandas as pd"
   ]
  },
  {
   "cell_type": "markdown",
   "metadata": {
    "id": "FThBUcrndDHP"
   },
   "source": [
    "# Loading the Dataset"
   ]
  },
  {
   "cell_type": "code",
   "execution_count": 5,
   "metadata": {
    "colab": {
     "base_uri": "https://localhost:8080/",
     "height": 200,
     "referenced_widgets": [
      "6c6c62d85be443f3a9b9c3e53c640405",
      "13077a658082494d9118f9779bee0fa2",
      "a296b2333ae54d79a2a72e1fc71c1d35",
      "4dee297350394a94a388efa4dec4802b",
      "1c1649509ea24706add797cb4f3a4c69",
      "8f00febedaa549fcb474af191d04fad0",
      "295fff77a3cc4fa68fb95a47a85ebc02",
      "3f2a23d96c264ce3ae519fd4952b7d3b",
      "6e2c97f58c1c4a75bd91ee384d78a4c0",
      "962e46b2f9f34f4282f21280fe23624a",
      "b9a374e601a640af9a18f5215f47a1f7",
      "30978b591c054169af4d6290cc5d9177",
      "1d466b17822a487f851f2b4650f3e877",
      "d9e87452e4814402ad348dfba717fb24",
      "091a54b80eb343df982643a0225f6b35",
      "2ae7661f6ea34291aaf63781812721f8",
      "82be711173b74a0db0e71690d3aec136",
      "5f291963ebf943c694f1f3d89354ee9d",
      "92e3007fa37e4d73aa45138409c1e536",
      "954177121ae94a98a3dc19d2b26f86a8",
      "80c65ee4171e40c89cd3913d7f272ca0",
      "bb6ede34bb8a41558cb5524e2903e2a5",
      "5fbb6b5fe19d4ebe8278dbabc7a686c0",
      "d1d553a631924b74ae247e9a92bb6336",
      "378d708f1dcd40d4a62fef5dade6c2ff",
      "9b8bc76ee516454d8e9a70dbe669268a",
      "64323c620616414b873cfa29db99148b",
      "5b337ace8112461aaf8cac812f94c630",
      "7080658a4e174bb5bd202fa89e1999fb",
      "414c0ab7bce44b2983af687d105c7fe0",
      "f3e6d09dcddd4d33be00add7b9d0ec9c",
      "45646d83dbb44f31be0b402d44b0d24a",
      "7b84a2fbfeb14d7eab3e09e6bf0d9fea",
      "d1dc512bb2934c17a350f90a8b04dd93",
      "9e7522ba06ba44ffabfde84a749a327a",
      "1eadaf8492ec43a9b312c8291e97367e",
      "f067cda586fe4a37ad8c04a263d02e2c",
      "d1ffa145fde84d878feaff3cf7584caf",
      "91a5db00c75241d7b20544fd58f4d4ee",
      "63178ada22474535aa1a02b787e5932a",
      "2e4704e1054442848b7b0728780988c0",
      "706c8ef53c54478fbd162a59ba127245",
      "920b01259710401298a5dce31dcb019f",
      "4aef59b1a66d47ae8081627b54fae50b",
      "0c03b2683c914f37b6ee9e5c961d664f",
      "74633bc3bf694610be0426dd5d574e1b",
      "d0a2fcaaeb734fb3bbfb3436a169358c",
      "16701bf049ce4f7385f21097e159968f",
      "3793af39196144babfb20c79254f5e28",
      "39957c629de2426680ff609e0edb1320",
      "2287643233cb4a2bb65b84b4421f20f5",
      "0c8457b60a3445509f878a5edba88c81",
      "06b5d6c4b85745e99a3cf57627f882e2",
      "799cba86965d45c28299430c60be8171",
      "45b8938acbf941bb8c90c74e7fd98e3f"
     ]
    },
    "id": "Pty3IkVNdGmB",
    "outputId": "3a6207f4-7a6c-40bc-9696-4ed33368b06e"
   },
   "outputs": [
    {
     "data": {
      "application/vnd.jupyter.widget-view+json": {
       "model_id": "6c6c62d85be443f3a9b9c3e53c640405",
       "version_major": 2,
       "version_minor": 0
      },
      "text/plain": [
       "Downloading builder script:   0%|          | 0.00/6.04k [00:00<?, ?B/s]"
      ]
     },
     "metadata": {},
     "output_type": "display_data"
    },
    {
     "data": {
      "application/vnd.jupyter.widget-view+json": {
       "model_id": "30978b591c054169af4d6290cc5d9177",
       "version_major": 2,
       "version_minor": 0
      },
      "text/plain": [
       "Downloading metadata:   0%|          | 0.00/13.7k [00:00<?, ?B/s]"
      ]
     },
     "metadata": {},
     "output_type": "display_data"
    },
    {
     "data": {
      "application/vnd.jupyter.widget-view+json": {
       "model_id": "5fbb6b5fe19d4ebe8278dbabc7a686c0",
       "version_major": 2,
       "version_minor": 0
      },
      "text/plain": [
       "Downloading readme:   0%|          | 0.00/8.86k [00:00<?, ?B/s]"
      ]
     },
     "metadata": {},
     "output_type": "display_data"
    },
    {
     "name": "stdout",
     "output_type": "stream",
     "text": [
      "Downloading and preparing dataset financial_phrasebank/sentences_allagree to /root/.cache/huggingface/datasets/financial_phrasebank/sentences_allagree/1.0.0/550bde12e6c30e2674da973a55f57edde5181d53f5a5a34c1531c53f93b7e141...\n"
     ]
    },
    {
     "data": {
      "application/vnd.jupyter.widget-view+json": {
       "model_id": "d1dc512bb2934c17a350f90a8b04dd93",
       "version_major": 2,
       "version_minor": 0
      },
      "text/plain": [
       "Downloading data:   0%|          | 0.00/682k [00:00<?, ?B/s]"
      ]
     },
     "metadata": {},
     "output_type": "display_data"
    },
    {
     "data": {
      "application/vnd.jupyter.widget-view+json": {
       "model_id": "0c03b2683c914f37b6ee9e5c961d664f",
       "version_major": 2,
       "version_minor": 0
      },
      "text/plain": [
       "Generating train split:   0%|          | 0/2264 [00:00<?, ? examples/s]"
      ]
     },
     "metadata": {},
     "output_type": "display_data"
    },
    {
     "name": "stdout",
     "output_type": "stream",
     "text": [
      "Dataset financial_phrasebank downloaded and prepared to /root/.cache/huggingface/datasets/financial_phrasebank/sentences_allagree/1.0.0/550bde12e6c30e2674da973a55f57edde5181d53f5a5a34c1531c53f93b7e141. Subsequent calls will reuse this data.\n"
     ]
    }
   ],
   "source": [
    "datasets = load_dataset('financial_phrasebank', 'sentences_allagree', split='train').train_test_split(test_size=0.2, seed=200)\n",
    "train_dataset = datasets['train']\n",
    "test_dataset = datasets['test']"
   ]
  },
  {
   "cell_type": "markdown",
   "metadata": {
    "id": "hTVrkqiHFkFt"
   },
   "source": [
    "# Neural Network Models"
   ]
  },
  {
   "attachments": {},
   "cell_type": "markdown",
   "metadata": {
    "id": "lIknJZ_yTVb2"
   },
   "source": [
    "## Tokenization"
   ]
  },
  {
   "cell_type": "code",
   "execution_count": 6,
   "metadata": {
    "id": "tTa7n9HRKpnM"
   },
   "outputs": [],
   "source": [
    "from keras.preprocessing.text import Tokenizer\n",
    "from keras.utils import pad_sequences\n",
    "from keras.utils import to_categorical\n",
    "from keras.models import Sequential\n",
    "from keras.layers import SimpleRNN, LSTM, Dense, Embedding, Dropout\n",
    "from keras.callbacks import EarlyStopping\n",
    "from sklearn.metrics import classification_report, f1_score, accuracy_score\n",
    "import time"
   ]
  },
  {
   "cell_type": "code",
   "execution_count": 7,
   "metadata": {
    "id": "pPqTgRRoFmxy"
   },
   "outputs": [],
   "source": [
    "train_df = train_dataset.to_pandas()\n",
    "test_df = test_dataset.to_pandas()\n",
    "complete_df = pd.concat([train_df, test_df], axis = 0, ignore_index = True)"
   ]
  },
  {
   "cell_type": "code",
   "execution_count": 8,
   "metadata": {
    "id": "oetSmyF1OWpa"
   },
   "outputs": [],
   "source": [
    "X_train = train_df[\"sentence\"].to_numpy()\n",
    "y_train = to_categorical(train_df[\"label\"])\n",
    "X_test = test_df[\"sentence\"].to_numpy()\n",
    "y_test = to_categorical(test_df[\"label\"])"
   ]
  },
  {
   "cell_type": "code",
   "execution_count": 9,
   "metadata": {
    "id": "2IW0ycdsF4H8"
   },
   "outputs": [],
   "source": [
    "words = 20000 \n",
    "tokenizer=Tokenizer(words,lower=True)\n",
    "tokenizer.fit_on_texts(complete_df[\"sentence\"])"
   ]
  },
  {
   "cell_type": "code",
   "execution_count": 10,
   "metadata": {
    "id": "PuEpCUIEGtxb"
   },
   "outputs": [],
   "source": [
    "X_train_tokenized = pad_sequences(tokenizer.texts_to_sequences(X_train),maxlen = 40,padding='post')\n",
    "X_test_tokenized = pad_sequences(tokenizer.texts_to_sequences(X_test), maxlen = 40, padding = 'post')"
   ]
  },
  {
   "cell_type": "markdown",
   "metadata": {
    "id": "kVR5pvB4bRhn"
   },
   "source": [
    "## RNN Model"
   ]
  },
  {
   "cell_type": "code",
   "execution_count": 133,
   "metadata": {
    "id": "5sVv7VNxbV0g"
   },
   "outputs": [],
   "source": [
    "model = Sequential()\n",
    "model.add(Embedding(input_dim = words, output_dim = 128, input_length= X_train_tokenized.shape[1]))\n",
    "model.add(SimpleRNN(128,return_sequences=False))\n",
    "model.add(Dropout(0.35))\n",
    "model.add(Dense(64,activation='tanh'))\n",
    "model.add(Dense(32,activation='tanh'))\n",
    "model.add(Dense(10,activation='tanh'))\n",
    "model.add(Dense(3,activation='softmax'))\n",
    "model.compile(optimizer='adam',loss='categorical_crossentropy',metrics=['accuracy'])"
   ]
  },
  {
   "cell_type": "code",
   "execution_count": 127,
   "metadata": {
    "colab": {
     "base_uri": "https://localhost:8080/",
     "height": 77
    },
    "id": "-6szhLSnHEgf",
    "outputId": "15236766-924b-47ca-8549-abd858cf5663"
   },
   "outputs": [
    {
     "data": {
      "image/png": "[encoded data removed]",
      "text/plain": [
       "<IPython.core.display.Image object>"
      ]
     },
     "execution_count": 127,
     "metadata": {},
     "output_type": "execute_result"
    }
   ],
   "source": [
    "from keras.utils.vis_utils import plot_model\n",
    "plot_model(model, to_file='model_plot.png', show_shapes=False, show_layer_names= False, rankdir = 'LR')"
   ]
  },
  {
   "cell_type": "code",
   "execution_count": 134,
   "metadata": {
    "colab": {
     "base_uri": "https://localhost:8080/"
    },
    "id": "uM7cSCYEbZa2",
    "outputId": "09069a7c-6d52-470d-be7c-b015eff7fd13"
   },
   "outputs": [
    {
     "name": "stdout",
     "output_type": "stream",
     "text": [
      "Epoch 1/20\n",
      "28/28 [==============================] - 8s 207ms/step - loss: 0.9344 - accuracy: 0.6082 - val_loss: 0.9221 - val_accuracy: 0.5982\n",
      "Epoch 2/20\n",
      "28/28 [==============================] - 4s 135ms/step - loss: 0.9178 - accuracy: 0.6230 - val_loss: 0.9168 - val_accuracy: 0.6071\n",
      "Epoch 3/20\n",
      "28/28 [==============================] - 4s 144ms/step - loss: 0.8436 - accuracy: 0.6561 - val_loss: 1.0265 - val_accuracy: 0.5651\n",
      "Epoch 4/20\n",
      "28/28 [==============================] - 4s 143ms/step - loss: 0.6520 - accuracy: 0.7577 - val_loss: 0.8737 - val_accuracy: 0.6468\n",
      "Epoch 5/20\n",
      "28/28 [==============================] - 3s 90ms/step - loss: 0.4321 - accuracy: 0.8476 - val_loss: 0.8971 - val_accuracy: 0.6402\n",
      "Epoch 6/20\n",
      "28/28 [==============================] - 2s 75ms/step - loss: 0.2636 - accuracy: 0.9227 - val_loss: 1.3018 - val_accuracy: 0.5850\n",
      "Epoch 7/20\n",
      "28/28 [==============================] - 2s 83ms/step - loss: 0.2043 - accuracy: 0.9367 - val_loss: 1.5038 - val_accuracy: 0.5121\n",
      "Epoch 8/20\n",
      "28/28 [==============================] - 2s 82ms/step - loss: 0.1717 - accuracy: 0.9580 - val_loss: 1.1727 - val_accuracy: 0.6093\n",
      "Epoch 9/20\n",
      "28/28 [==============================] - 3s 111ms/step - loss: 0.0848 - accuracy: 0.9823 - val_loss: 1.3317 - val_accuracy: 0.6026\n",
      "Epoch 10/20\n",
      "28/28 [==============================] - 3s 86ms/step - loss: 0.0572 - accuracy: 0.9904 - val_loss: 1.3341 - val_accuracy: 0.5938\n",
      "Epoch 11/20\n",
      "28/28 [==============================] - 2s 71ms/step - loss: 0.0439 - accuracy: 0.9941 - val_loss: 1.2760 - val_accuracy: 0.6424\n",
      "Epoch 12/20\n",
      "28/28 [==============================] - 2s 72ms/step - loss: 0.0269 - accuracy: 0.9978 - val_loss: 1.2707 - val_accuracy: 0.6358\n",
      "Epoch 13/20\n",
      "28/28 [==============================] - 2s 74ms/step - loss: 0.0195 - accuracy: 1.0000 - val_loss: 1.2599 - val_accuracy: 0.6490\n",
      "Epoch 14/20\n",
      "28/28 [==============================] - 2s 55ms/step - loss: 0.0156 - accuracy: 1.0000 - val_loss: 1.3263 - val_accuracy: 0.6225\n",
      "Epoch 15/20\n",
      "28/28 [==============================] - 3s 104ms/step - loss: 0.0135 - accuracy: 1.0000 - val_loss: 1.3514 - val_accuracy: 0.6203\n",
      "Epoch 16/20\n",
      "28/28 [==============================] - 2s 59ms/step - loss: 0.0120 - accuracy: 1.0000 - val_loss: 1.3595 - val_accuracy: 0.6269\n",
      "Epoch 17/20\n",
      "28/28 [==============================] - 2s 70ms/step - loss: 0.0109 - accuracy: 1.0000 - val_loss: 1.4011 - val_accuracy: 0.6159\n",
      "Epoch 18/20\n",
      "28/28 [==============================] - 1s 47ms/step - loss: 0.0100 - accuracy: 1.0000 - val_loss: 1.4409 - val_accuracy: 0.6115\n",
      "Epoch 19/20\n",
      "28/28 [==============================] - 1s 52ms/step - loss: 0.0092 - accuracy: 1.0000 - val_loss: 1.4834 - val_accuracy: 0.6137\n",
      "Epoch 20/20\n",
      "28/28 [==============================] - 1s 47ms/step - loss: 0.0085 - accuracy: 1.0000 - val_loss: 1.4953 - val_accuracy: 0.6115\n"
     ]
    }
   ],
   "source": [
    "cb = EarlyStopping(monitor = 'val_loss', patience = 20, mode = 'max', restore_best_weights = True)\n",
    "history = model.fit(X_train_tokenized , y_train, epochs = 20, batch_size = 50, validation_split = 0.25, callbacks = [cb])"
   ]
  },
  {
   "cell_type": "code",
   "execution_count": 137,
   "metadata": {
    "colab": {
     "base_uri": "https://localhost:8080/"
    },
    "id": "qWpo_cSIPhyO",
    "outputId": "7704daeb-15cd-45ab-8b53-770f5d46fbea"
   },
   "outputs": [
    {
     "name": "stdout",
     "output_type": "stream",
     "text": [
      "15/15 [==============================] - 0s 5ms/step\n",
      "              precision    recall  f1-score   support\n",
      "\n",
      "    positive       0.41      0.39      0.40        64\n",
      "    negative       0.78      0.72      0.75       268\n",
      "     neutral       0.44      0.53      0.48       121\n",
      "\n",
      "    accuracy                           0.62       453\n",
      "   macro avg       0.54      0.55      0.54       453\n",
      "weighted avg       0.64      0.62      0.63       453\n",
      "\n",
      "Accuracy 0.6225165562913907\n",
      "F1 Score 0.6288481038097332\n",
      "Evaluation Time 0.28474879264831543\n"
     ]
    }
   ],
   "source": [
    "strt = time.time()\n",
    "predictions = model.predict(X_test_tokenized)\n",
    "end = time.time()\n",
    "t1 = end - strt\n",
    "target_names=['positive','negative','neutral']\n",
    "print(classification_report(np.argmax(y_test,axis=1),np.argmax(predictions,axis=1),target_names=target_names))\n",
    "print(\"Accuracy\", accuracy_score(np.argmax(y_test,axis=1), np.argmax(predictions,axis=1)))\n",
    "print(\"F1 Score\", f1_score(np.argmax(y_test,axis=1), np.argmax(predictions,axis=1), average = \"weighted\"))\n",
    "print(\"Evaluation Time\", t1)"
   ]
  },
  {
   "cell_type": "markdown",
   "metadata": {
    "id": "Ed75dFYqTZB5"
   },
   "source": [
    "## LSTM Model"
   ]
  },
  {
   "cell_type": "code",
   "execution_count": 68,
   "metadata": {
    "id": "c6jhVby0LA2a"
   },
   "outputs": [],
   "source": [
    "model = Sequential()\n",
    "model.add(Embedding(input_dim = words, output_dim = 128, input_length= X_train_tokenized.shape[1]))\n",
    "model.add(LSTM(128,return_sequences=False))\n",
    "model.add(Dropout(0.35))\n",
    "model.add(Dense(64,activation='tanh'))\n",
    "model.add(Dense(32,activation='tanh'))\n",
    "model.add(Dense(10,activation='tanh'))\n",
    "model.add(Dense(3,activation='softmax'))\n",
    "model.compile(optimizer='adam',loss='categorical_crossentropy',metrics=['accuracy'])"
   ]
  },
  {
   "cell_type": "code",
   "execution_count": null,
   "metadata": {
    "colab": {
     "base_uri": "https://localhost:8080/",
     "height": 77
    },
    "id": "cfOHqCf2IhSt",
    "outputId": "11dd7dec-1bc1-4976-df04-dc6496de15b3"
   },
   "outputs": [
    {
     "data": {
      "image/png": "[encoded data removed]",
      "text/plain": [
       "<IPython.core.display.Image object>"
      ]
     },
     "execution_count": 22,
     "metadata": {},
     "output_type": "execute_result"
    }
   ],
   "source": [
    "from keras.utils.vis_utils import plot_model\n",
    "plot_model(model, to_file='model_plot.png', show_shapes=False, show_layer_names= False, rankdir = 'LR')"
   ]
  },
  {
   "cell_type": "code",
   "execution_count": 69,
   "metadata": {
    "colab": {
     "base_uri": "https://localhost:8080/"
    },
    "id": "SmrRiwMJLCWY",
    "outputId": "2cf4affc-6a6d-41c5-9c95-dabcde112b50"
   },
   "outputs": [
    {
     "name": "stdout",
     "output_type": "stream",
     "text": [
      "Epoch 1/20\n",
      "28/28 [==============================] - 8s 168ms/step - loss: 0.9143 - accuracy: 0.6303 - val_loss: 0.8681 - val_accuracy: 0.6247\n",
      "Epoch 2/20\n",
      "28/28 [==============================] - 4s 149ms/step - loss: 0.6731 - accuracy: 0.7312 - val_loss: 0.6000 - val_accuracy: 0.7682\n",
      "Epoch 3/20\n",
      "28/28 [==============================] - 3s 99ms/step - loss: 0.4762 - accuracy: 0.8063 - val_loss: 0.7659 - val_accuracy: 0.7130\n",
      "Epoch 4/20\n",
      "28/28 [==============================] - 2s 67ms/step - loss: 0.3880 - accuracy: 0.8336 - val_loss: 0.4961 - val_accuracy: 0.7969\n",
      "Epoch 5/20\n",
      "28/28 [==============================] - 3s 100ms/step - loss: 0.3154 - accuracy: 0.8564 - val_loss: 0.7614 - val_accuracy: 0.7152\n",
      "Epoch 6/20\n",
      "28/28 [==============================] - 2s 56ms/step - loss: 0.2910 - accuracy: 0.8601 - val_loss: 0.7089 - val_accuracy: 0.7616\n",
      "Epoch 7/20\n",
      "28/28 [==============================] - 2s 79ms/step - loss: 0.2794 - accuracy: 0.8660 - val_loss: 0.5986 - val_accuracy: 0.8057\n",
      "Epoch 8/20\n",
      "28/28 [==============================] - 2s 69ms/step - loss: 0.2784 - accuracy: 0.8616 - val_loss: 0.5414 - val_accuracy: 0.7947\n",
      "Epoch 9/20\n",
      "28/28 [==============================] - 2s 78ms/step - loss: 0.2632 - accuracy: 0.8652 - val_loss: 0.5344 - val_accuracy: 0.7947\n",
      "Epoch 10/20\n",
      "28/28 [==============================] - 1s 29ms/step - loss: 0.2396 - accuracy: 0.8800 - val_loss: 0.5938 - val_accuracy: 0.6843\n",
      "Epoch 11/20\n",
      "28/28 [==============================] - 1s 41ms/step - loss: 0.2477 - accuracy: 0.8557 - val_loss: 0.7692 - val_accuracy: 0.7064\n",
      "Epoch 12/20\n",
      "28/28 [==============================] - 1s 34ms/step - loss: 0.1942 - accuracy: 0.9249 - val_loss: 0.6298 - val_accuracy: 0.7815\n",
      "Epoch 13/20\n",
      "28/28 [==============================] - 1s 22ms/step - loss: 0.2032 - accuracy: 0.9308 - val_loss: 0.7886 - val_accuracy: 0.7373\n",
      "Epoch 14/20\n",
      "28/28 [==============================] - 1s 28ms/step - loss: 0.1670 - accuracy: 0.9529 - val_loss: 0.8202 - val_accuracy: 0.7594\n",
      "Epoch 15/20\n",
      "28/28 [==============================] - 1s 36ms/step - loss: 0.0958 - accuracy: 0.9809 - val_loss: 0.7108 - val_accuracy: 0.7726\n",
      "Epoch 16/20\n",
      "28/28 [==============================] - 1s 35ms/step - loss: 0.0898 - accuracy: 0.9786 - val_loss: 0.6699 - val_accuracy: 0.7969\n",
      "Epoch 17/20\n",
      "28/28 [==============================] - 1s 29ms/step - loss: 0.0774 - accuracy: 0.9816 - val_loss: 0.7850 - val_accuracy: 0.7969\n",
      "Epoch 18/20\n",
      "28/28 [==============================] - 1s 32ms/step - loss: 0.0648 - accuracy: 0.9845 - val_loss: 0.7266 - val_accuracy: 0.8013\n",
      "Epoch 19/20\n",
      "28/28 [==============================] - 1s 23ms/step - loss: 0.0447 - accuracy: 0.9934 - val_loss: 0.8504 - val_accuracy: 0.7947\n",
      "Epoch 20/20\n",
      "28/28 [==============================] - 0s 18ms/step - loss: 0.0600 - accuracy: 0.9882 - val_loss: 0.7899 - val_accuracy: 0.7991\n"
     ]
    }
   ],
   "source": [
    "cb = EarlyStopping(monitor = 'val_loss', patience = 20, mode = 'max', restore_best_weights = True)\n",
    "history = model.fit(X_train_tokenized , y_train, epochs = 20, batch_size = 50, validation_split = 0.25, callbacks = [cb])"
   ]
  },
  {
   "cell_type": "code",
   "execution_count": 70,
   "metadata": {
    "colab": {
     "base_uri": "https://localhost:8080/",
     "height": 449
    },
    "id": "AumVDv9sUtmH",
    "outputId": "c4f28043-87c0-4338-84c8-91a0576e3837"
   },
   "outputs": [
    {
     "data": {
      "image/png": "[encoded data removed]",
      "text/plain": [
       "<Figure size 640x480 with 1 Axes>"
      ]
     },
     "metadata": {},
     "output_type": "display_data"
    }
   ],
   "source": [
    "plt.plot(history.history['accuracy'], label='Training Accuracy')\n",
    "plt.plot(history.history['val_accuracy'], label='Testing Accuracy')\n",
    "plt.xlabel('Epoch')\n",
    "plt.ylabel('Accuracy')\n",
    "plt.xticks([i for i in range(20)], [i+1 for i in range(20)])\n",
    "plt.legend(loc='best')\n",
    "plt.show()"
   ]
  },
  {
   "cell_type": "code",
   "execution_count": 71,
   "metadata": {
    "colab": {
     "base_uri": "https://localhost:8080/",
     "height": 455
    },
    "id": "kIqAGrCQWV_d",
    "outputId": "cb2c57a6-f3c1-40fc-efb5-9d444ea1260f"
   },
   "outputs": [
    {
     "data": {
      "image/png": "[encoded data removed]",
      "text/plain": [
       "<Figure size 640x480 with 1 Axes>"
      ]
     },
     "metadata": {},
     "output_type": "display_data"
    }
   ],
   "source": [
    "plt.plot(history.history['loss'], label='Training Loss')\n",
    "plt.plot(history.history['val_loss'], label='Testing Loss')\n",
    "plt.xlabel('Epoch')\n",
    "plt.ylabel('Loss')\n",
    "plt.xticks([i for i in range(20)], [i+1 for i in range(20)])\n",
    "plt.yticks(np.arange(0, 1.1, 0.1))\n",
    "plt.legend(loc='best')\n",
    "plt.show()"
   ]
  },
  {
   "cell_type": "code",
   "execution_count": 72,
   "metadata": {
    "colab": {
     "base_uri": "https://localhost:8080/"
    },
    "id": "9HcrU4Y-YhIe",
    "outputId": "83ba8063-bd62-4ab5-e8c3-3d28e1d4e9c2"
   },
   "outputs": [
    {
     "name": "stdout",
     "output_type": "stream",
     "text": [
      "15/15 [==============================] - 0s 3ms/step\n",
      "              precision    recall  f1-score   support\n",
      "\n",
      "    positive       0.51      0.77      0.61        64\n",
      "    negative       0.92      0.86      0.89       268\n",
      "     neutral       0.78      0.69      0.73       121\n",
      "\n",
      "    accuracy                           0.80       453\n",
      "   macro avg       0.73      0.77      0.74       453\n",
      "weighted avg       0.83      0.80      0.81       453\n",
      "\n",
      "Accuracy 0.7991169977924945\n",
      "F1 Score 0.8068556825292921\n",
      "Evaluation Time 0.5158581733703613\n"
     ]
    }
   ],
   "source": [
    "strt = time.time()\n",
    "predictions = model.predict(X_test_tokenized)\n",
    "end = time.time()\n",
    "t2 = end - strt\n",
    "target_names=['positive','negative','neutral']\n",
    "print(classification_report(np.argmax(y_test,axis=1),np.argmax(predictions,axis=1),target_names=target_names))\n",
    "print(\"Accuracy\", accuracy_score(np.argmax(y_test,axis=1), np.argmax(predictions,axis=1)))\n",
    "print(\"F1 Score\", f1_score(np.argmax(y_test,axis=1), np.argmax(predictions,axis=1), average = \"weighted\"))\n",
    "print(\"Evaluation Time\", t2)"
   ]
  },
  {
   "cell_type": "markdown",
   "metadata": {
    "id": "RuK5GWB94d5c"
   },
   "source": [
    "## GloVe Embedding"
   ]
  },
  {
   "cell_type": "code",
   "execution_count": 11,
   "metadata": {
    "colab": {
     "base_uri": "https://localhost:8080/"
    },
    "id": "CGNVAABP4fTQ",
    "outputId": "4e3f3ca4-3816-4027-eb0c-40b1388028c1"
   },
   "outputs": [
    {
     "name": "stdout",
     "output_type": "stream",
     "text": [
      "[==================================================] 100.0% 376.1/376.1MB downloaded\n"
     ]
    }
   ],
   "source": [
    "import gensim.downloader as api\n",
    "glove_gensim  = api.load('glove-wiki-gigaword-300')"
   ]
  },
  {
   "cell_type": "code",
   "execution_count": 12,
   "metadata": {
    "id": "FAnI70PI4ke5"
   },
   "outputs": [],
   "source": [
    "weight_matrix = np.zeros((20000, 300))\n",
    "\n",
    "for word, i in tokenizer.word_index.items():\n",
    "    if i < 20000: \n",
    "        try:\n",
    "            weight_matrix[i] = glove_gensim[word]\n",
    "        except:\n",
    "            weight_matrix[i] = np.zeros(300)"
   ]
  },
  {
   "cell_type": "markdown",
   "metadata": {
    "id": "V_kvnvlB5Xuh"
   },
   "source": [
    "## RNN + GloVe Model"
   ]
  },
  {
   "cell_type": "code",
   "execution_count": 93,
   "metadata": {
    "id": "8D1umC565Rju"
   },
   "outputs": [],
   "source": [
    "model = Sequential()\n",
    "model.add(Embedding(input_dim = words, output_dim = 300, input_length= X_train_tokenized.shape[1], weights = [weight_matrix], trainable = False))\n",
    "model.add(SimpleRNN(128,return_sequences=False))\n",
    "model.add(Dropout(0.35))\n",
    "model.add(Dense(64,activation='tanh'))\n",
    "model.add(Dense(32,activation='tanh'))\n",
    "model.add(Dense(10,activation='tanh'))\n",
    "model.add(Dense(3,activation='softmax'))\n",
    "model.compile(optimizer='adam',loss='categorical_crossentropy',metrics=['accuracy'])"
   ]
  },
  {
   "cell_type": "code",
   "execution_count": 98,
   "metadata": {
    "colab": {
     "base_uri": "https://localhost:8080/"
    },
    "id": "82DOJxQH5Rju",
    "outputId": "c4817504-62bf-4b21-e4b2-bb24181cef98"
   },
   "outputs": [
    {
     "name": "stdout",
     "output_type": "stream",
     "text": [
      "Epoch 1/20\n",
      "28/28 [==============================] - 1s 38ms/step - loss: 0.4551 - accuracy: 0.8108 - val_loss: 0.6534 - val_accuracy: 0.7439\n",
      "Epoch 2/20\n",
      "28/28 [==============================] - 1s 36ms/step - loss: 0.5148 - accuracy: 0.8211 - val_loss: 0.6357 - val_accuracy: 0.7550\n",
      "Epoch 3/20\n",
      "28/28 [==============================] - 1s 35ms/step - loss: 0.4325 - accuracy: 0.8409 - val_loss: 0.6775 - val_accuracy: 0.7108\n",
      "Epoch 4/20\n",
      "28/28 [==============================] - 1s 36ms/step - loss: 0.3446 - accuracy: 0.8792 - val_loss: 0.6395 - val_accuracy: 0.7594\n",
      "Epoch 5/20\n",
      "28/28 [==============================] - 1s 37ms/step - loss: 0.3365 - accuracy: 0.8792 - val_loss: 0.6170 - val_accuracy: 0.7660\n",
      "Epoch 6/20\n",
      "28/28 [==============================] - 1s 35ms/step - loss: 0.3187 - accuracy: 0.8918 - val_loss: 0.7249 - val_accuracy: 0.7307\n",
      "Epoch 7/20\n",
      "28/28 [==============================] - 1s 35ms/step - loss: 0.3019 - accuracy: 0.9072 - val_loss: 0.6600 - val_accuracy: 0.7483\n",
      "Epoch 8/20\n",
      "28/28 [==============================] - 1s 39ms/step - loss: 0.2874 - accuracy: 0.9013 - val_loss: 0.6907 - val_accuracy: 0.7439\n",
      "Epoch 9/20\n",
      "28/28 [==============================] - 2s 69ms/step - loss: 0.2513 - accuracy: 0.9242 - val_loss: 0.7131 - val_accuracy: 0.7616\n",
      "Epoch 10/20\n",
      "28/28 [==============================] - 1s 39ms/step - loss: 0.2362 - accuracy: 0.9293 - val_loss: 0.6940 - val_accuracy: 0.7550\n",
      "Epoch 11/20\n",
      "28/28 [==============================] - 1s 34ms/step - loss: 0.2206 - accuracy: 0.9315 - val_loss: 0.7414 - val_accuracy: 0.7550\n",
      "Epoch 12/20\n",
      "28/28 [==============================] - 1s 34ms/step - loss: 0.3105 - accuracy: 0.8999 - val_loss: 0.7309 - val_accuracy: 0.7439\n",
      "Epoch 13/20\n",
      "28/28 [==============================] - 1s 35ms/step - loss: 0.3370 - accuracy: 0.8778 - val_loss: 0.7562 - val_accuracy: 0.7417\n",
      "Epoch 14/20\n",
      "28/28 [==============================] - 1s 36ms/step - loss: 0.2515 - accuracy: 0.9205 - val_loss: 0.7280 - val_accuracy: 0.7594\n",
      "Epoch 15/20\n",
      "28/28 [==============================] - 1s 35ms/step - loss: 0.3043 - accuracy: 0.9028 - val_loss: 0.7071 - val_accuracy: 0.7572\n",
      "Epoch 16/20\n",
      "28/28 [==============================] - 1s 34ms/step - loss: 0.2411 - accuracy: 0.9242 - val_loss: 0.7543 - val_accuracy: 0.7373\n",
      "Epoch 17/20\n",
      "28/28 [==============================] - 1s 34ms/step - loss: 0.1968 - accuracy: 0.9411 - val_loss: 0.7509 - val_accuracy: 0.7506\n",
      "Epoch 18/20\n",
      "28/28 [==============================] - 1s 34ms/step - loss: 0.1732 - accuracy: 0.9492 - val_loss: 0.7595 - val_accuracy: 0.7594\n",
      "Epoch 19/20\n",
      "28/28 [==============================] - 1s 36ms/step - loss: 0.2123 - accuracy: 0.9411 - val_loss: 0.8272 - val_accuracy: 0.7351\n",
      "Epoch 20/20\n",
      "28/28 [==============================] - 2s 59ms/step - loss: 0.2011 - accuracy: 0.9396 - val_loss: 0.8238 - val_accuracy: 0.7528\n"
     ]
    }
   ],
   "source": [
    "cb = EarlyStopping(monitor = 'val_loss', patience = 20, mode = 'max', restore_best_weights = True)\n",
    "history = model.fit(X_train_tokenized , y_train, epochs = 20, batch_size = 50, validation_split = 0.25, callbacks = [cb])"
   ]
  },
  {
   "cell_type": "code",
   "execution_count": 101,
   "metadata": {
    "colab": {
     "base_uri": "https://localhost:8080/"
    },
    "id": "82ajE80X5Rjw",
    "outputId": "7bb55b3f-4270-4083-98de-8919d1f9129a"
   },
   "outputs": [
    {
     "name": "stdout",
     "output_type": "stream",
     "text": [
      "15/15 [==============================] - 0s 5ms/step\n",
      "              precision    recall  f1-score   support\n",
      "\n",
      "    positive       0.48      0.45      0.46        64\n",
      "    negative       0.83      0.97      0.90       268\n",
      "     neutral       0.68      0.44      0.53       121\n",
      "\n",
      "    accuracy                           0.76       453\n",
      "   macro avg       0.66      0.62      0.63       453\n",
      "weighted avg       0.74      0.76      0.74       453\n",
      "\n",
      "Accuracy 0.7571743929359823\n",
      "F1 Score 0.7384534113182146\n",
      "Evaluation Time 0.19597172737121582\n"
     ]
    }
   ],
   "source": [
    "strt = time.time()\n",
    "predictions = model.predict(X_test_tokenized)\n",
    "end = time.time()\n",
    "t3 = end - strt\n",
    "target_names=['positive','negative','neutral']\n",
    "print(classification_report(np.argmax(y_test,axis=1),np.argmax(predictions,axis=1),target_names=target_names))\n",
    "print(\"Accuracy\", accuracy_score(np.argmax(y_test,axis=1), np.argmax(predictions,axis=1)))\n",
    "print(\"F1 Score\", f1_score(np.argmax(y_test,axis=1), np.argmax(predictions,axis=1), average = \"weighted\"))\n",
    "print(\"Evaluation Time\", t3)"
   ]
  },
  {
   "cell_type": "markdown",
   "metadata": {
    "id": "d4_gg9of6G0X"
   },
   "source": [
    "## LSTM + GloVe Model"
   ]
  },
  {
   "cell_type": "code",
   "execution_count": 58,
   "metadata": {
    "id": "KfqLZt6l6NOA"
   },
   "outputs": [],
   "source": [
    "model = Sequential()\n",
    "model.add(Embedding(input_dim = words, output_dim = 300, input_length= X_train_tokenized.shape[1], weights = [weight_matrix], trainable = False))\n",
    "model.add(LSTM(128,return_sequences=False))\n",
    "model.add(Dropout(0.35))\n",
    "model.add(Dense(64,activation='tanh'))\n",
    "model.add(Dense(32,activation='tanh'))\n",
    "model.add(Dense(10,activation='tanh'))\n",
    "model.add(Dense(3,activation='softmax'))\n",
    "model.compile(optimizer='adam',loss='categorical_crossentropy',metrics=['accuracy'])"
   ]
  },
  {
   "cell_type": "code",
   "execution_count": 59,
   "metadata": {
    "colab": {
     "base_uri": "https://localhost:8080/"
    },
    "id": "USebtg3F6NOB",
    "outputId": "346b4c1e-e754-4cf7-9fad-b7aa27800392"
   },
   "outputs": [
    {
     "name": "stdout",
     "output_type": "stream",
     "text": [
      "Epoch 1/20\n",
      "28/28 [==============================] - 5s 38ms/step - loss: 0.8345 - accuracy: 0.6613 - val_loss: 0.6603 - val_accuracy: 0.6843\n",
      "Epoch 2/20\n",
      "28/28 [==============================] - 0s 14ms/step - loss: 0.5960 - accuracy: 0.7570 - val_loss: 0.6022 - val_accuracy: 0.7506\n",
      "Epoch 3/20\n",
      "28/28 [==============================] - 0s 14ms/step - loss: 0.5275 - accuracy: 0.7784 - val_loss: 0.5484 - val_accuracy: 0.7748\n",
      "Epoch 4/20\n",
      "28/28 [==============================] - 0s 14ms/step - loss: 0.4772 - accuracy: 0.7953 - val_loss: 0.5228 - val_accuracy: 0.7748\n",
      "Epoch 5/20\n",
      "28/28 [==============================] - 0s 13ms/step - loss: 0.4438 - accuracy: 0.7975 - val_loss: 0.5235 - val_accuracy: 0.7903\n",
      "Epoch 6/20\n",
      "28/28 [==============================] - 0s 13ms/step - loss: 0.3860 - accuracy: 0.8233 - val_loss: 0.5234 - val_accuracy: 0.7483\n",
      "Epoch 7/20\n",
      "28/28 [==============================] - 0s 12ms/step - loss: 0.3936 - accuracy: 0.8189 - val_loss: 0.5027 - val_accuracy: 0.7925\n",
      "Epoch 8/20\n",
      "28/28 [==============================] - 0s 11ms/step - loss: 0.3525 - accuracy: 0.8365 - val_loss: 0.4860 - val_accuracy: 0.7351\n",
      "Epoch 9/20\n",
      "28/28 [==============================] - 0s 11ms/step - loss: 0.3005 - accuracy: 0.8630 - val_loss: 0.5141 - val_accuracy: 0.7991\n",
      "Epoch 10/20\n",
      "28/28 [==============================] - 0s 9ms/step - loss: 0.3020 - accuracy: 0.8697 - val_loss: 0.5651 - val_accuracy: 0.7859\n",
      "Epoch 11/20\n",
      "28/28 [==============================] - 0s 9ms/step - loss: 0.2454 - accuracy: 0.8910 - val_loss: 0.4283 - val_accuracy: 0.8499\n",
      "Epoch 12/20\n",
      "28/28 [==============================] - 0s 10ms/step - loss: 0.1906 - accuracy: 0.9315 - val_loss: 0.4739 - val_accuracy: 0.8035\n",
      "Epoch 13/20\n",
      "28/28 [==============================] - 0s 10ms/step - loss: 0.1862 - accuracy: 0.9337 - val_loss: 0.5731 - val_accuracy: 0.7947\n",
      "Epoch 14/20\n",
      "28/28 [==============================] - 0s 9ms/step - loss: 0.1423 - accuracy: 0.9521 - val_loss: 0.5834 - val_accuracy: 0.8278\n",
      "Epoch 15/20\n",
      "28/28 [==============================] - 0s 9ms/step - loss: 0.1682 - accuracy: 0.9448 - val_loss: 0.4363 - val_accuracy: 0.8653\n",
      "Epoch 16/20\n",
      "28/28 [==============================] - 0s 9ms/step - loss: 0.0923 - accuracy: 0.9779 - val_loss: 0.3944 - val_accuracy: 0.8786\n",
      "Epoch 17/20\n",
      "28/28 [==============================] - 0s 9ms/step - loss: 0.1751 - accuracy: 0.9485 - val_loss: 0.3663 - val_accuracy: 0.8918\n",
      "Epoch 18/20\n",
      "28/28 [==============================] - 0s 9ms/step - loss: 0.0947 - accuracy: 0.9735 - val_loss: 0.4176 - val_accuracy: 0.8786\n",
      "Epoch 19/20\n",
      "28/28 [==============================] - 0s 9ms/step - loss: 0.0710 - accuracy: 0.9809 - val_loss: 0.3644 - val_accuracy: 0.9117\n",
      "Epoch 20/20\n",
      "28/28 [==============================] - 0s 9ms/step - loss: 0.0736 - accuracy: 0.9809 - val_loss: 0.3464 - val_accuracy: 0.8985\n"
     ]
    }
   ],
   "source": [
    "cb = EarlyStopping(monitor = 'val_loss', patience = 20, mode = 'max', restore_best_weights = True)\n",
    "history = model.fit(X_train_tokenized , y_train, epochs = 20, batch_size = 50, validation_split = 0.25, callbacks = [cb])"
   ]
  },
  {
   "cell_type": "code",
   "execution_count": 60,
   "metadata": {
    "colab": {
     "base_uri": "https://localhost:8080/",
     "height": 449
    },
    "id": "s0_AMc8J6NOC",
    "outputId": "e3578f95-3c46-47b8-cd79-f6453141c099"
   },
   "outputs": [
    {
     "data": {
      "image/png": "[encoded data removed]",
      "text/plain": [
       "<Figure size 640x480 with 1 Axes>"
      ]
     },
     "metadata": {},
     "output_type": "display_data"
    }
   ],
   "source": [
    "plt.plot(history.history['accuracy'], label='Training Accuracy')\n",
    "plt.plot(history.history['val_accuracy'], label='Testing Accuracy')\n",
    "plt.xlabel('Epoch')\n",
    "plt.ylabel('Accuracy')\n",
    "plt.xticks([i for i in range(20)], [i+1 for i in range(20)])\n",
    "plt.legend(loc='best')\n",
    "plt.show()"
   ]
  },
  {
   "cell_type": "code",
   "execution_count": 61,
   "metadata": {
    "colab": {
     "base_uri": "https://localhost:8080/",
     "height": 455
    },
    "id": "yOadtQRf6NOC",
    "outputId": "512488f0-1096-4403-867e-4a2c39fc7458"
   },
   "outputs": [
    {
     "data": {
      "image/png": "[encoded data removed]",
      "text/plain": [
       "<Figure size 640x480 with 1 Axes>"
      ]
     },
     "metadata": {},
     "output_type": "display_data"
    }
   ],
   "source": [
    "plt.plot(history.history['loss'], label='Training Loss')\n",
    "plt.plot(history.history['val_loss'], label='Testing Loss')\n",
    "plt.xlabel('Epoch')\n",
    "plt.ylabel('Loss')\n",
    "plt.xticks([i for i in range(20)], [i+1 for i in range(20)])\n",
    "plt.yticks(np.arange(0, 1.1, 0.1))\n",
    "plt.legend(loc='best')\n",
    "plt.show()"
   ]
  },
  {
   "cell_type": "code",
   "execution_count": 62,
   "metadata": {
    "colab": {
     "base_uri": "https://localhost:8080/"
    },
    "id": "bq3LC6QZ6NOD",
    "outputId": "37fd38df-6bad-42c0-db05-03f9ef7a77f7"
   },
   "outputs": [
    {
     "name": "stdout",
     "output_type": "stream",
     "text": [
      "15/15 [==============================] - 0s 3ms/step\n",
      "              precision    recall  f1-score   support\n",
      "\n",
      "    positive       0.81      0.86      0.83        64\n",
      "    negative       0.91      0.96      0.93       268\n",
      "     neutral       0.89      0.77      0.83       121\n",
      "\n",
      "    accuracy                           0.89       453\n",
      "   macro avg       0.87      0.86      0.86       453\n",
      "weighted avg       0.89      0.89      0.89       453\n",
      "\n",
      "Accuracy 0.891832229580574\n",
      "F1 Score 0.8902827135027765\n",
      "Evaluation Time 0.4470667839050293\n"
     ]
    }
   ],
   "source": [
    "strt = time.time()\n",
    "predictions = model.predict(X_test_tokenized)\n",
    "end = time.time()\n",
    "t4 = end - strt\n",
    "target_names=['positive','negative','neutral']\n",
    "print(classification_report(np.argmax(y_test,axis=1),np.argmax(predictions,axis=1),target_names=target_names))\n",
    "print(\"Accuracy\", accuracy_score(np.argmax(y_test,axis=1), np.argmax(predictions,axis=1)))\n",
    "print(\"F1 Score\", f1_score(np.argmax(y_test,axis=1), np.argmax(predictions,axis=1), average = \"weighted\"))\n",
    "print(\"Evaluation Time\", t4)"
   ]
  },
  {
   "cell_type": "markdown",
   "metadata": {
    "id": "-KtqW-M4JdVn"
   },
   "source": [
    "## Model Comparison"
   ]
  },
  {
   "cell_type": "code",
   "execution_count": 138,
   "metadata": {
    "colab": {
     "base_uri": "https://localhost:8080/",
     "height": 449
    },
    "id": "jkE5QmTUC5q9",
    "outputId": "204ebff3-14e9-4d95-d513-43475f380b02"
   },
   "outputs": [
    {
     "data": {
      "image/png": "[encoded data removed]",
      "text/plain": [
       "<Figure size 640x480 with 1 Axes>"
      ]
     },
     "metadata": {},
     "output_type": "display_data"
    }
   ],
   "source": [
    "d = {'Model': ['RNN', 'RNN', 'LSTM', 'LSTM'], 'F1 Score': [0.629, 0.738, 0.807, 0.89], 'Embedding': ['None', 'GloVe', 'None', 'GloVe']}\n",
    "df = pd.DataFrame(data=d)\n",
    "fig = sns.barplot(df, y=\"Model\", x=\"F1 Score\", hue=\"Embedding\", orient=\"h\")\n",
    "fig.set(xlabel='F1 Score', ylabel='Model', xticks = [i/10 for i in range(11)])\n",
    "plt.show()"
   ]
  },
  {
   "cell_type": "markdown",
   "metadata": {
    "id": "BiRw59EeJjy3"
   },
   "source": [
    "## Error Analysis using Best Deep Learning Model (LSTM + GloVE)"
   ]
  },
  {
   "cell_type": "code",
   "execution_count": 146,
   "metadata": {
    "colab": {
     "base_uri": "https://localhost:8080/"
    },
    "id": "PUJ5_bT8JBEI",
    "outputId": "c6d0dece-2a37-4d26-a4b1-3a8ffc32b0f3"
   },
   "outputs": [
    {
     "name": "stdout",
     "output_type": "stream",
     "text": [
      "15/15 [==============================] - 0s 3ms/step\n",
      "15/15 [==============================] - 0s 3ms/step\n",
      "15/15 [==============================] - 0s 2ms/step\n",
      "15/15 [==============================] - 0s 3ms/step\n",
      "15/15 [==============================] - 0s 3ms/step\n",
      "15/15 [==============================] - 0s 3ms/step\n",
      "15/15 [==============================] - 1s 3ms/step\n",
      "15/15 [==============================] - 0s 3ms/step\n",
      "15/15 [==============================] - 0s 3ms/step\n",
      "15/15 [==============================] - 1s 4ms/step\n"
     ]
    }
   ],
   "source": [
    "misclassified = []\n",
    "for i in range(10):\n",
    "  model = Sequential()\n",
    "  model.add(Embedding(input_dim = words, output_dim = 300, input_length= X_train_tokenized.shape[1], weights = [weight_matrix], trainable = False))\n",
    "  model.add(LSTM(128,return_sequences=False))\n",
    "  model.add(Dropout(0.35))\n",
    "  model.add(Dense(64,activation='tanh'))\n",
    "  model.add(Dense(32,activation='tanh'))\n",
    "  model.add(Dense(10,activation='tanh'))\n",
    "  model.add(Dense(3,activation='softmax'))\n",
    "  model.compile(optimizer='adam',loss='categorical_crossentropy',metrics=['accuracy'])\n",
    "\n",
    "  cb = EarlyStopping(monitor = 'val_loss', patience = 20, mode = 'max', restore_best_weights = True)\n",
    "  history = model.fit(X_train_tokenized , y_train, epochs = 20, batch_size = 50, validation_split = 0.25, callbacks = [cb], verbose = 0)\n",
    "  predictions = model.predict(X_test_tokenized)\n",
    "\n",
    "  preds = np.argmax(predictions, axis = 1)\n",
    "  y_test_1 = np.argmax(y_test, axis = 1)\n",
    "  for i in range(len(X_test)):\n",
    "    if preds[i] != y_test_1[i]:\n",
    "      misclassified.append(X_test[i])"
   ]
  },
  {
   "cell_type": "code",
   "execution_count": 147,
   "metadata": {
    "colab": {
     "base_uri": "https://localhost:8080/",
     "height": 447
    },
    "id": "pJWmpC5GM2v5",
    "outputId": "0e1b8d47-25b4-430f-83c1-2690b349a08f"
   },
   "outputs": [
    {
     "data": {
      "image/png": "[encoded data removed]",
      "text/plain": [
       "<Figure size 640x480 with 1 Axes>"
      ]
     },
     "metadata": {},
     "output_type": "display_data"
    },
    {
     "name": "stdout",
     "output_type": "stream",
     "text": [
      "Average Misclassified Character Length: 130.47\n"
     ]
    }
   ],
   "source": [
    "misc_len_dist = [len(sentence) for sentence in misclassified]\n",
    "sns.histplot(misc_len_dist, kde=True, bins=15)\n",
    "plt.show()\n",
    "\n",
    "print(f\"Average Misclassified Character Length: {sum(misc_len_dist) / len(misc_len_dist):.2f}\")"
   ]
  },
  {
   "cell_type": "code",
   "execution_count": 148,
   "metadata": {
    "colab": {
     "base_uri": "https://localhost:8080/"
    },
    "id": "wOLMOgQARHPk",
    "outputId": "228c43a1-40de-4fcd-ed68-7a56c73f0091"
   },
   "outputs": [
    {
     "name": "stdout",
     "output_type": "stream",
     "text": [
      "Thus the method will cut working costs , and will fasten the planning and building processes .\n",
      "Number of misclassifications in 10 runs:  10\n",
      "Actual: Positive\n",
      "Prediction: Neutral \n",
      "\n",
      "The company is well positioned in Brazil and Uruguay .\n",
      "Number of misclassifications in 10 runs:  10\n",
      "Actual: Positive\n",
      "Prediction: Neutral \n",
      "\n",
      "The offer of some 30 million shares aimed to raise more than  x20ac 500 million US$ 640 million , was expected to be completed by Oct. 9 , Outokumpu said .\n",
      "Number of misclassifications in 10 runs:  10\n",
      "Actual: Neutral\n",
      "Prediction: Positive \n",
      "\n",
      "In the end of 2006 , the number of outlets will rise to 60-70 .\n",
      "Number of misclassifications in 10 runs:  10\n",
      "Actual: Positive\n",
      "Prediction: Neutral \n",
      "\n",
      "The Group also has a strong global position in other fishing categories .\n",
      "Number of misclassifications in 10 runs:  10\n",
      "Actual: Positive\n",
      "Prediction: Neutral \n",
      "\n"
     ]
    }
   ],
   "source": [
    "dict_1={} \n",
    "for ele in misclassified: \n",
    "    if ele in dict_1: \n",
    "        dict_1[ele] += 1 \n",
    "    else: \n",
    "        dict_1[ele] = 1 \n",
    "\n",
    "sentiment = ['Negative', 'Neutral', 'Positive']\n",
    "hardest = sorted(dict_1, key=dict_1.get, reverse=True)[:5]\n",
    "\n",
    "for item in hardest:\n",
    "    print(item)\n",
    "    print(\"Number of misclassifications in 10 runs: \", dict_1[item])\n",
    "    idx = X_test.tolist().index(item)\n",
    "    print(\"Actual:\", sentiment[y_test_1[idx]])\n",
    "    print(\"Prediction:\", sentiment[preds[idx]], \"\\n\")"
   ]
  }
 ],
 "metadata": {
  "accelerator": "GPU",
  "colab": {
   "provenance": []
  },
  "gpuClass": "standard",
  "kernelspec": {
   "display_name": "Python 3 (ipykernel)",
   "language": "python",
   "name": "python3"
  },
  "language_info": {
   "codemirror_mode": {
    "name": "ipython",
    "version": 3
   },
   "file_extension": ".py",
   "mimetype": "text/x-python",
   "name": "python",
   "nbconvert_exporter": "python",
   "pygments_lexer": "ipython3",
   "version": "3.10.7"
  },
  "widgets": {
   "application/vnd.jupyter.widget-state+json": {
    "06b5d6c4b85745e99a3cf57627f882e2": {
     "model_module": "@jupyter-widgets/controls",
     "model_module_version": "1.5.0",
     "model_name": "ProgressStyleModel",
     "state": {
      "_model_module": "@jupyter-widgets/controls",
      "_model_module_version": "1.5.0",
      "_model_name": "ProgressStyleModel",
      "_view_count": null,
      "_view_module": "@jupyter-widgets/base",
      "_view_module_version": "1.2.0",
      "_view_name": "StyleView",
      "bar_color": null,
      "description_width": ""
     }
    },
    "091a54b80eb343df982643a0225f6b35": {
     "model_module": "@jupyter-widgets/controls",
     "model_module_version": "1.5.0",
     "model_name": "HTMLModel",
     "state": {
      "_dom_classes": [],
      "_model_module": "@jupyter-widgets/controls",
      "_model_module_version": "1.5.0",
      "_model_name": "HTMLModel",
      "_view_count": null,
      "_view_module": "@jupyter-widgets/controls",
      "_view_module_version": "1.5.0",
      "_view_name": "HTMLView",
      "description": "",
      "description_tooltip": null,
      "layout": "IPY_MODEL_80c65ee4171e40c89cd3913d7f272ca0",
      "placeholder": "​",
      "style": "IPY_MODEL_bb6ede34bb8a41558cb5524e2903e2a5",
      "value": " 13.7k/13.7k [00:00&lt;00:00, 353kB/s]"
     }
    },
    "0c03b2683c914f37b6ee9e5c961d664f": {
     "model_module": "@jupyter-widgets/controls",
     "model_module_version": "1.5.0",
     "model_name": "HBoxModel",
     "state": {
      "_dom_classes": [],
      "_model_module": "@jupyter-widgets/controls",
      "_model_module_version": "1.5.0",
      "_model_name": "HBoxModel",
      "_view_count": null,
      "_view_module": "@jupyter-widgets/controls",
      "_view_module_version": "1.5.0",
      "_view_name": "HBoxView",
      "box_style": "",
      "children": [
       "IPY_MODEL_74633bc3bf694610be0426dd5d574e1b",
       "IPY_MODEL_d0a2fcaaeb734fb3bbfb3436a169358c",
       "IPY_MODEL_16701bf049ce4f7385f21097e159968f"
      ],
      "layout": "IPY_MODEL_3793af39196144babfb20c79254f5e28"
     }
    },
    "0c8457b60a3445509f878a5edba88c81": {
     "model_module": "@jupyter-widgets/base",
     "model_module_version": "1.2.0",
     "model_name": "LayoutModel",
     "state": {
      "_model_module": "@jupyter-widgets/base",
      "_model_module_version": "1.2.0",
      "_model_name": "LayoutModel",
      "_view_count": null,
      "_view_module": "@jupyter-widgets/base",
      "_view_module_version": "1.2.0",
      "_view_name": "LayoutView",
      "align_content": null,
      "align_items": null,
      "align_self": null,
      "border": null,
      "bottom": null,
      "display": null,
      "flex": null,
      "flex_flow": null,
      "grid_area": null,
      "grid_auto_columns": null,
      "grid_auto_flow": null,
      "grid_auto_rows": null,
      "grid_column": null,
      "grid_gap": null,
      "grid_row": null,
      "grid_template_areas": null,
      "grid_template_columns": null,
      "grid_template_rows": null,
      "height": null,
      "justify_content": null,
      "justify_items": null,
      "left": null,
      "margin": null,
      "max_height": null,
      "max_width": null,
      "min_height": null,
      "min_width": null,
      "object_fit": null,
      "object_position": null,
      "order": null,
      "overflow": null,
      "overflow_x": null,
      "overflow_y": null,
      "padding": null,
      "right": null,
      "top": null,
      "visibility": null,
      "width": null
     }
    },
    "13077a658082494d9118f9779bee0fa2": {
     "model_module": "@jupyter-widgets/controls",
     "model_module_version": "1.5.0",
     "model_name": "HTMLModel",
     "state": {
      "_dom_classes": [],
      "_model_module": "@jupyter-widgets/controls",
      "_model_module_version": "1.5.0",
      "_model_name": "HTMLModel",
      "_view_count": null,
      "_view_module": "@jupyter-widgets/controls",
      "_view_module_version": "1.5.0",
      "_view_name": "HTMLView",
      "description": "",
      "description_tooltip": null,
      "layout": "IPY_MODEL_8f00febedaa549fcb474af191d04fad0",
      "placeholder": "​",
      "style": "IPY_MODEL_295fff77a3cc4fa68fb95a47a85ebc02",
      "value": "Downloading builder script: 100%"
     }
    },
    "16701bf049ce4f7385f21097e159968f": {
     "model_module": "@jupyter-widgets/controls",
     "model_module_version": "1.5.0",
     "model_name": "HTMLModel",
     "state": {
      "_dom_classes": [],
      "_model_module": "@jupyter-widgets/controls",
      "_model_module_version": "1.5.0",
      "_model_name": "HTMLModel",
      "_view_count": null,
      "_view_module": "@jupyter-widgets/controls",
      "_view_module_version": "1.5.0",
      "_view_name": "HTMLView",
      "description": "",
      "description_tooltip": null,
      "layout": "IPY_MODEL_799cba86965d45c28299430c60be8171",
      "placeholder": "​",
      "style": "IPY_MODEL_45b8938acbf941bb8c90c74e7fd98e3f",
      "value": " 1000/2264 [00:00&lt;00:00, 6995.51 examples/s]"
     }
    },
    "1c1649509ea24706add797cb4f3a4c69": {
     "model_module": "@jupyter-widgets/base",
     "model_module_version": "1.2.0",
     "model_name": "LayoutModel",
     "state": {
      "_model_module": "@jupyter-widgets/base",
      "_model_module_version": "1.2.0",
      "_model_name": "LayoutModel",
      "_view_count": null,
      "_view_module": "@jupyter-widgets/base",
      "_view_module_version": "1.2.0",
      "_view_name": "LayoutView",
      "align_content": null,
      "align_items": null,
      "align_self": null,
      "border": null,
      "bottom": null,
      "display": null,
      "flex": null,
      "flex_flow": null,
      "grid_area": null,
      "grid_auto_columns": null,
      "grid_auto_flow": null,
      "grid_auto_rows": null,
      "grid_column": null,
      "grid_gap": null,
      "grid_row": null,
      "grid_template_areas": null,
      "grid_template_columns": null,
      "grid_template_rows": null,
      "height": null,
      "justify_content": null,
      "justify_items": null,
      "left": null,
      "margin": null,
      "max_height": null,
      "max_width": null,
      "min_height": null,
      "min_width": null,
      "object_fit": null,
      "object_position": null,
      "order": null,
      "overflow": null,
      "overflow_x": null,
      "overflow_y": null,
      "padding": null,
      "right": null,
      "top": null,
      "visibility": null,
      "width": null
     }
    },
    "1d466b17822a487f851f2b4650f3e877": {
     "model_module": "@jupyter-widgets/controls",
     "model_module_version": "1.5.0",
     "model_name": "HTMLModel",
     "state": {
      "_dom_classes": [],
      "_model_module": "@jupyter-widgets/controls",
      "_model_module_version": "1.5.0",
      "_model_name": "HTMLModel",
      "_view_count": null,
      "_view_module": "@jupyter-widgets/controls",
      "_view_module_version": "1.5.0",
      "_view_name": "HTMLView",
      "description": "",
      "description_tooltip": null,
      "layout": "IPY_MODEL_82be711173b74a0db0e71690d3aec136",
      "placeholder": "​",
      "style": "IPY_MODEL_5f291963ebf943c694f1f3d89354ee9d",
      "value": "Downloading metadata: 100%"
     }
    },
    "1eadaf8492ec43a9b312c8291e97367e": {
     "model_module": "@jupyter-widgets/controls",
     "model_module_version": "1.5.0",
     "model_name": "FloatProgressModel",
     "state": {
      "_dom_classes": [],
      "_model_module": "@jupyter-widgets/controls",
      "_model_module_version": "1.5.0",
      "_model_name": "FloatProgressModel",
      "_view_count": null,
      "_view_module": "@jupyter-widgets/controls",
      "_view_module_version": "1.5.0",
      "_view_name": "ProgressView",
      "bar_style": "success",
      "description": "",
      "description_tooltip": null,
      "layout": "IPY_MODEL_2e4704e1054442848b7b0728780988c0",
      "max": 681890,
      "min": 0,
      "orientation": "horizontal",
      "style": "IPY_MODEL_706c8ef53c54478fbd162a59ba127245",
      "value": 681890
     }
    },
    "2287643233cb4a2bb65b84b4421f20f5": {
     "model_module": "@jupyter-widgets/controls",
     "model_module_version": "1.5.0",
     "model_name": "DescriptionStyleModel",
     "state": {
      "_model_module": "@jupyter-widgets/controls",
      "_model_module_version": "1.5.0",
      "_model_name": "DescriptionStyleModel",
      "_view_count": null,
      "_view_module": "@jupyter-widgets/base",
      "_view_module_version": "1.2.0",
      "_view_name": "StyleView",
      "description_width": ""
     }
    },
    "295fff77a3cc4fa68fb95a47a85ebc02": {
     "model_module": "@jupyter-widgets/controls",
     "model_module_version": "1.5.0",
     "model_name": "DescriptionStyleModel",
     "state": {
      "_model_module": "@jupyter-widgets/controls",
      "_model_module_version": "1.5.0",
      "_model_name": "DescriptionStyleModel",
      "_view_count": null,
      "_view_module": "@jupyter-widgets/base",
      "_view_module_version": "1.2.0",
      "_view_name": "StyleView",
      "description_width": ""
     }
    },
    "2ae7661f6ea34291aaf63781812721f8": {
     "model_module": "@jupyter-widgets/base",
     "model_module_version": "1.2.0",
     "model_name": "LayoutModel",
     "state": {
      "_model_module": "@jupyter-widgets/base",
      "_model_module_version": "1.2.0",
      "_model_name": "LayoutModel",
      "_view_count": null,
      "_view_module": "@jupyter-widgets/base",
      "_view_module_version": "1.2.0",
      "_view_name": "LayoutView",
      "align_content": null,
      "align_items": null,
      "align_self": null,
      "border": null,
      "bottom": null,
      "display": null,
      "flex": null,
      "flex_flow": null,
      "grid_area": null,
      "grid_auto_columns": null,
      "grid_auto_flow": null,
      "grid_auto_rows": null,
      "grid_column": null,
      "grid_gap": null,
      "grid_row": null,
      "grid_template_areas": null,
      "grid_template_columns": null,
      "grid_template_rows": null,
      "height": null,
      "justify_content": null,
      "justify_items": null,
      "left": null,
      "margin": null,
      "max_height": null,
      "max_width": null,
      "min_height": null,
      "min_width": null,
      "object_fit": null,
      "object_position": null,
      "order": null,
      "overflow": null,
      "overflow_x": null,
      "overflow_y": null,
      "padding": null,
      "right": null,
      "top": null,
      "visibility": null,
      "width": null
     }
    },
    "2e4704e1054442848b7b0728780988c0": {
     "model_module": "@jupyter-widgets/base",
     "model_module_version": "1.2.0",
     "model_name": "LayoutModel",
     "state": {
      "_model_module": "@jupyter-widgets/base",
      "_model_module_version": "1.2.0",
      "_model_name": "LayoutModel",
      "_view_count": null,
      "_view_module": "@jupyter-widgets/base",
      "_view_module_version": "1.2.0",
      "_view_name": "LayoutView",
      "align_content": null,
      "align_items": null,
      "align_self": null,
      "border": null,
      "bottom": null,
      "display": null,
      "flex": null,
      "flex_flow": null,
      "grid_area": null,
      "grid_auto_columns": null,
      "grid_auto_flow": null,
      "grid_auto_rows": null,
      "grid_column": null,
      "grid_gap": null,
      "grid_row": null,
      "grid_template_areas": null,
      "grid_template_columns": null,
      "grid_template_rows": null,
      "height": null,
      "justify_content": null,
      "justify_items": null,
      "left": null,
      "margin": null,
      "max_height": null,
      "max_width": null,
      "min_height": null,
      "min_width": null,
      "object_fit": null,
      "object_position": null,
      "order": null,
      "overflow": null,
      "overflow_x": null,
      "overflow_y": null,
      "padding": null,
      "right": null,
      "top": null,
      "visibility": null,
      "width": null
     }
    },
    "30978b591c054169af4d6290cc5d9177": {
     "model_module": "@jupyter-widgets/controls",
     "model_module_version": "1.5.0",
     "model_name": "HBoxModel",
     "state": {
      "_dom_classes": [],
      "_model_module": "@jupyter-widgets/controls",
      "_model_module_version": "1.5.0",
      "_model_name": "HBoxModel",
      "_view_count": null,
      "_view_module": "@jupyter-widgets/controls",
      "_view_module_version": "1.5.0",
      "_view_name": "HBoxView",
      "box_style": "",
      "children": [
       "IPY_MODEL_1d466b17822a487f851f2b4650f3e877",
       "IPY_MODEL_d9e87452e4814402ad348dfba717fb24",
       "IPY_MODEL_091a54b80eb343df982643a0225f6b35"
      ],
      "layout": "IPY_MODEL_2ae7661f6ea34291aaf63781812721f8"
     }
    },
    "378d708f1dcd40d4a62fef5dade6c2ff": {
     "model_module": "@jupyter-widgets/controls",
     "model_module_version": "1.5.0",
     "model_name": "FloatProgressModel",
     "state": {
      "_dom_classes": [],
      "_model_module": "@jupyter-widgets/controls",
      "_model_module_version": "1.5.0",
      "_model_name": "FloatProgressModel",
      "_view_count": null,
      "_view_module": "@jupyter-widgets/controls",
      "_view_module_version": "1.5.0",
      "_view_name": "ProgressView",
      "bar_style": "success",
      "description": "",
      "description_tooltip": null,
      "layout": "IPY_MODEL_414c0ab7bce44b2983af687d105c7fe0",
      "max": 8862,
      "min": 0,
      "orientation": "horizontal",
      "style": "IPY_MODEL_f3e6d09dcddd4d33be00add7b9d0ec9c",
      "value": 8862
     }
    },
    "3793af39196144babfb20c79254f5e28": {
     "model_module": "@jupyter-widgets/base",
     "model_module_version": "1.2.0",
     "model_name": "LayoutModel",
     "state": {
      "_model_module": "@jupyter-widgets/base",
      "_model_module_version": "1.2.0",
      "_model_name": "LayoutModel",
      "_view_count": null,
      "_view_module": "@jupyter-widgets/base",
      "_view_module_version": "1.2.0",
      "_view_name": "LayoutView",
      "align_content": null,
      "align_items": null,
      "align_self": null,
      "border": null,
      "bottom": null,
      "display": null,
      "flex": null,
      "flex_flow": null,
      "grid_area": null,
      "grid_auto_columns": null,
      "grid_auto_flow": null,
      "grid_auto_rows": null,
      "grid_column": null,
      "grid_gap": null,
      "grid_row": null,
      "grid_template_areas": null,
      "grid_template_columns": null,
      "grid_template_rows": null,
      "height": null,
      "justify_content": null,
      "justify_items": null,
      "left": null,
      "margin": null,
      "max_height": null,
      "max_width": null,
      "min_height": null,
      "min_width": null,
      "object_fit": null,
      "object_position": null,
      "order": null,
      "overflow": null,
      "overflow_x": null,
      "overflow_y": null,
      "padding": null,
      "right": null,
      "top": null,
      "visibility": "hidden",
      "width": null
     }
    },
    "39957c629de2426680ff609e0edb1320": {
     "model_module": "@jupyter-widgets/base",
     "model_module_version": "1.2.0",
     "model_name": "LayoutModel",
     "state": {
      "_model_module": "@jupyter-widgets/base",
      "_model_module_version": "1.2.0",
      "_model_name": "LayoutModel",
      "_view_count": null,
      "_view_module": "@jupyter-widgets/base",
      "_view_module_version": "1.2.0",
      "_view_name": "LayoutView",
      "align_content": null,
      "align_items": null,
      "align_self": null,
      "border": null,
      "bottom": null,
      "display": null,
      "flex": null,
      "flex_flow": null,
      "grid_area": null,
      "grid_auto_columns": null,
      "grid_auto_flow": null,
      "grid_auto_rows": null,
      "grid_column": null,
      "grid_gap": null,
      "grid_row": null,
      "grid_template_areas": null,
      "grid_template_columns": null,
      "grid_template_rows": null,
      "height": null,
      "justify_content": null,
      "justify_items": null,
      "left": null,
      "margin": null,
      "max_height": null,
      "max_width": null,
      "min_height": null,
      "min_width": null,
      "object_fit": null,
      "object_position": null,
      "order": null,
      "overflow": null,
      "overflow_x": null,
      "overflow_y": null,
      "padding": null,
      "right": null,
      "top": null,
      "visibility": null,
      "width": null
     }
    },
    "3f2a23d96c264ce3ae519fd4952b7d3b": {
     "model_module": "@jupyter-widgets/base",
     "model_module_version": "1.2.0",
     "model_name": "LayoutModel",
     "state": {
      "_model_module": "@jupyter-widgets/base",
      "_model_module_version": "1.2.0",
      "_model_name": "LayoutModel",
      "_view_count": null,
      "_view_module": "@jupyter-widgets/base",
      "_view_module_version": "1.2.0",
      "_view_name": "LayoutView",
      "align_content": null,
      "align_items": null,
      "align_self": null,
      "border": null,
      "bottom": null,
      "display": null,
      "flex": null,
      "flex_flow": null,
      "grid_area": null,
      "grid_auto_columns": null,
      "grid_auto_flow": null,
      "grid_auto_rows": null,
      "grid_column": null,
      "grid_gap": null,
      "grid_row": null,
      "grid_template_areas": null,
      "grid_template_columns": null,
      "grid_template_rows": null,
      "height": null,
      "justify_content": null,
      "justify_items": null,
      "left": null,
      "margin": null,
      "max_height": null,
      "max_width": null,
      "min_height": null,
      "min_width": null,
      "object_fit": null,
      "object_position": null,
      "order": null,
      "overflow": null,
      "overflow_x": null,
      "overflow_y": null,
      "padding": null,
      "right": null,
      "top": null,
      "visibility": null,
      "width": null
     }
    },
    "414c0ab7bce44b2983af687d105c7fe0": {
     "model_module": "@jupyter-widgets/base",
     "model_module_version": "1.2.0",
     "model_name": "LayoutModel",
     "state": {
      "_model_module": "@jupyter-widgets/base",
      "_model_module_version": "1.2.0",
      "_model_name": "LayoutModel",
      "_view_count": null,
      "_view_module": "@jupyter-widgets/base",
      "_view_module_version": "1.2.0",
      "_view_name": "LayoutView",
      "align_content": null,
      "align_items": null,
      "align_self": null,
      "border": null,
      "bottom": null,
      "display": null,
      "flex": null,
      "flex_flow": null,
      "grid_area": null,
      "grid_auto_columns": null,
      "grid_auto_flow": null,
      "grid_auto_rows": null,
      "grid_column": null,
      "grid_gap": null,
      "grid_row": null,
      "grid_template_areas": null,
      "grid_template_columns": null,
      "grid_template_rows": null,
      "height": null,
      "justify_content": null,
      "justify_items": null,
      "left": null,
      "margin": null,
      "max_height": null,
      "max_width": null,
      "min_height": null,
      "min_width": null,
      "object_fit": null,
      "object_position": null,
      "order": null,
      "overflow": null,
      "overflow_x": null,
      "overflow_y": null,
      "padding": null,
      "right": null,
      "top": null,
      "visibility": null,
      "width": null
     }
    },
    "45646d83dbb44f31be0b402d44b0d24a": {
     "model_module": "@jupyter-widgets/base",
     "model_module_version": "1.2.0",
     "model_name": "LayoutModel",
     "state": {
      "_model_module": "@jupyter-widgets/base",
      "_model_module_version": "1.2.0",
      "_model_name": "LayoutModel",
      "_view_count": null,
      "_view_module": "@jupyter-widgets/base",
      "_view_module_version": "1.2.0",
      "_view_name": "LayoutView",
      "align_content": null,
      "align_items": null,
      "align_self": null,
      "border": null,
      "bottom": null,
      "display": null,
      "flex": null,
      "flex_flow": null,
      "grid_area": null,
      "grid_auto_columns": null,
      "grid_auto_flow": null,
      "grid_auto_rows": null,
      "grid_column": null,
      "grid_gap": null,
      "grid_row": null,
      "grid_template_areas": null,
      "grid_template_columns": null,
      "grid_template_rows": null,
      "height": null,
      "justify_content": null,
      "justify_items": null,
      "left": null,
      "margin": null,
      "max_height": null,
      "max_width": null,
      "min_height": null,
      "min_width": null,
      "object_fit": null,
      "object_position": null,
      "order": null,
      "overflow": null,
      "overflow_x": null,
      "overflow_y": null,
      "padding": null,
      "right": null,
      "top": null,
      "visibility": null,
      "width": null
     }
    },
    "45b8938acbf941bb8c90c74e7fd98e3f": {
     "model_module": "@jupyter-widgets/controls",
     "model_module_version": "1.5.0",
     "model_name": "DescriptionStyleModel",
     "state": {
      "_model_module": "@jupyter-widgets/controls",
      "_model_module_version": "1.5.0",
      "_model_name": "DescriptionStyleModel",
      "_view_count": null,
      "_view_module": "@jupyter-widgets/base",
      "_view_module_version": "1.2.0",
      "_view_name": "StyleView",
      "description_width": ""
     }
    },
    "4aef59b1a66d47ae8081627b54fae50b": {
     "model_module": "@jupyter-widgets/controls",
     "model_module_version": "1.5.0",
     "model_name": "DescriptionStyleModel",
     "state": {
      "_model_module": "@jupyter-widgets/controls",
      "_model_module_version": "1.5.0",
      "_model_name": "DescriptionStyleModel",
      "_view_count": null,
      "_view_module": "@jupyter-widgets/base",
      "_view_module_version": "1.2.0",
      "_view_name": "StyleView",
      "description_width": ""
     }
    },
    "4dee297350394a94a388efa4dec4802b": {
     "model_module": "@jupyter-widgets/controls",
     "model_module_version": "1.5.0",
     "model_name": "HTMLModel",
     "state": {
      "_dom_classes": [],
      "_model_module": "@jupyter-widgets/controls",
      "_model_module_version": "1.5.0",
      "_model_name": "HTMLModel",
      "_view_count": null,
      "_view_module": "@jupyter-widgets/controls",
      "_view_module_version": "1.5.0",
      "_view_name": "HTMLView",
      "description": "",
      "description_tooltip": null,
      "layout": "IPY_MODEL_962e46b2f9f34f4282f21280fe23624a",
      "placeholder": "​",
      "style": "IPY_MODEL_b9a374e601a640af9a18f5215f47a1f7",
      "value": " 6.04k/6.04k [00:00&lt;00:00, 177kB/s]"
     }
    },
    "5b337ace8112461aaf8cac812f94c630": {
     "model_module": "@jupyter-widgets/base",
     "model_module_version": "1.2.0",
     "model_name": "LayoutModel",
     "state": {
      "_model_module": "@jupyter-widgets/base",
      "_model_module_version": "1.2.0",
      "_model_name": "LayoutModel",
      "_view_count": null,
      "_view_module": "@jupyter-widgets/base",
      "_view_module_version": "1.2.0",
      "_view_name": "LayoutView",
      "align_content": null,
      "align_items": null,
      "align_self": null,
      "border": null,
      "bottom": null,
      "display": null,
      "flex": null,
      "flex_flow": null,
      "grid_area": null,
      "grid_auto_columns": null,
      "grid_auto_flow": null,
      "grid_auto_rows": null,
      "grid_column": null,
      "grid_gap": null,
      "grid_row": null,
      "grid_template_areas": null,
      "grid_template_columns": null,
      "grid_template_rows": null,
      "height": null,
      "justify_content": null,
      "justify_items": null,
      "left": null,
      "margin": null,
      "max_height": null,
      "max_width": null,
      "min_height": null,
      "min_width": null,
      "object_fit": null,
      "object_position": null,
      "order": null,
      "overflow": null,
      "overflow_x": null,
      "overflow_y": null,
      "padding": null,
      "right": null,
      "top": null,
      "visibility": null,
      "width": null
     }
    },
    "5f291963ebf943c694f1f3d89354ee9d": {
     "model_module": "@jupyter-widgets/controls",
     "model_module_version": "1.5.0",
     "model_name": "DescriptionStyleModel",
     "state": {
      "_model_module": "@jupyter-widgets/controls",
      "_model_module_version": "1.5.0",
      "_model_name": "DescriptionStyleModel",
      "_view_count": null,
      "_view_module": "@jupyter-widgets/base",
      "_view_module_version": "1.2.0",
      "_view_name": "StyleView",
      "description_width": ""
     }
    },
    "5fbb6b5fe19d4ebe8278dbabc7a686c0": {
     "model_module": "@jupyter-widgets/controls",
     "model_module_version": "1.5.0",
     "model_name": "HBoxModel",
     "state": {
      "_dom_classes": [],
      "_model_module": "@jupyter-widgets/controls",
      "_model_module_version": "1.5.0",
      "_model_name": "HBoxModel",
      "_view_count": null,
      "_view_module": "@jupyter-widgets/controls",
      "_view_module_version": "1.5.0",
      "_view_name": "HBoxView",
      "box_style": "",
      "children": [
       "IPY_MODEL_d1d553a631924b74ae247e9a92bb6336",
       "IPY_MODEL_378d708f1dcd40d4a62fef5dade6c2ff",
       "IPY_MODEL_9b8bc76ee516454d8e9a70dbe669268a"
      ],
      "layout": "IPY_MODEL_64323c620616414b873cfa29db99148b"
     }
    },
    "63178ada22474535aa1a02b787e5932a": {
     "model_module": "@jupyter-widgets/controls",
     "model_module_version": "1.5.0",
     "model_name": "DescriptionStyleModel",
     "state": {
      "_model_module": "@jupyter-widgets/controls",
      "_model_module_version": "1.5.0",
      "_model_name": "DescriptionStyleModel",
      "_view_count": null,
      "_view_module": "@jupyter-widgets/base",
      "_view_module_version": "1.2.0",
      "_view_name": "StyleView",
      "description_width": ""
     }
    },
    "64323c620616414b873cfa29db99148b": {
     "model_module": "@jupyter-widgets/base",
     "model_module_version": "1.2.0",
     "model_name": "LayoutModel",
     "state": {
      "_model_module": "@jupyter-widgets/base",
      "_model_module_version": "1.2.0",
      "_model_name": "LayoutModel",
      "_view_count": null,
      "_view_module": "@jupyter-widgets/base",
      "_view_module_version": "1.2.0",
      "_view_name": "LayoutView",
      "align_content": null,
      "align_items": null,
      "align_self": null,
      "border": null,
      "bottom": null,
      "display": null,
      "flex": null,
      "flex_flow": null,
      "grid_area": null,
      "grid_auto_columns": null,
      "grid_auto_flow": null,
      "grid_auto_rows": null,
      "grid_column": null,
      "grid_gap": null,
      "grid_row": null,
      "grid_template_areas": null,
      "grid_template_columns": null,
      "grid_template_rows": null,
      "height": null,
      "justify_content": null,
      "justify_items": null,
      "left": null,
      "margin": null,
      "max_height": null,
      "max_width": null,
      "min_height": null,
      "min_width": null,
      "object_fit": null,
      "object_position": null,
      "order": null,
      "overflow": null,
      "overflow_x": null,
      "overflow_y": null,
      "padding": null,
      "right": null,
      "top": null,
      "visibility": null,
      "width": null
     }
    },
    "6c6c62d85be443f3a9b9c3e53c640405": {
     "model_module": "@jupyter-widgets/controls",
     "model_module_version": "1.5.0",
     "model_name": "HBoxModel",
     "state": {
      "_dom_classes": [],
      "_model_module": "@jupyter-widgets/controls",
      "_model_module_version": "1.5.0",
      "_model_name": "HBoxModel",
      "_view_count": null,
      "_view_module": "@jupyter-widgets/controls",
      "_view_module_version": "1.5.0",
      "_view_name": "HBoxView",
      "box_style": "",
      "children": [
       "IPY_MODEL_13077a658082494d9118f9779bee0fa2",
       "IPY_MODEL_a296b2333ae54d79a2a72e1fc71c1d35",
       "IPY_MODEL_4dee297350394a94a388efa4dec4802b"
      ],
      "layout": "IPY_MODEL_1c1649509ea24706add797cb4f3a4c69"
     }
    },
    "6e2c97f58c1c4a75bd91ee384d78a4c0": {
     "model_module": "@jupyter-widgets/controls",
     "model_module_version": "1.5.0",
     "model_name": "ProgressStyleModel",
     "state": {
      "_model_module": "@jupyter-widgets/controls",
      "_model_module_version": "1.5.0",
      "_model_name": "ProgressStyleModel",
      "_view_count": null,
      "_view_module": "@jupyter-widgets/base",
      "_view_module_version": "1.2.0",
      "_view_name": "StyleView",
      "bar_color": null,
      "description_width": ""
     }
    },
    "706c8ef53c54478fbd162a59ba127245": {
     "model_module": "@jupyter-widgets/controls",
     "model_module_version": "1.5.0",
     "model_name": "ProgressStyleModel",
     "state": {
      "_model_module": "@jupyter-widgets/controls",
      "_model_module_version": "1.5.0",
      "_model_name": "ProgressStyleModel",
      "_view_count": null,
      "_view_module": "@jupyter-widgets/base",
      "_view_module_version": "1.2.0",
      "_view_name": "StyleView",
      "bar_color": null,
      "description_width": ""
     }
    },
    "7080658a4e174bb5bd202fa89e1999fb": {
     "model_module": "@jupyter-widgets/controls",
     "model_module_version": "1.5.0",
     "model_name": "DescriptionStyleModel",
     "state": {
      "_model_module": "@jupyter-widgets/controls",
      "_model_module_version": "1.5.0",
      "_model_name": "DescriptionStyleModel",
      "_view_count": null,
      "_view_module": "@jupyter-widgets/base",
      "_view_module_version": "1.2.0",
      "_view_name": "StyleView",
      "description_width": ""
     }
    },
    "74633bc3bf694610be0426dd5d574e1b": {
     "model_module": "@jupyter-widgets/controls",
     "model_module_version": "1.5.0",
     "model_name": "HTMLModel",
     "state": {
      "_dom_classes": [],
      "_model_module": "@jupyter-widgets/controls",
      "_model_module_version": "1.5.0",
      "_model_name": "HTMLModel",
      "_view_count": null,
      "_view_module": "@jupyter-widgets/controls",
      "_view_module_version": "1.5.0",
      "_view_name": "HTMLView",
      "description": "",
      "description_tooltip": null,
      "layout": "IPY_MODEL_39957c629de2426680ff609e0edb1320",
      "placeholder": "​",
      "style": "IPY_MODEL_2287643233cb4a2bb65b84b4421f20f5",
      "value": "Generating train split:  44%"
     }
    },
    "799cba86965d45c28299430c60be8171": {
     "model_module": "@jupyter-widgets/base",
     "model_module_version": "1.2.0",
     "model_name": "LayoutModel",
     "state": {
      "_model_module": "@jupyter-widgets/base",
      "_model_module_version": "1.2.0",
      "_model_name": "LayoutModel",
      "_view_count": null,
      "_view_module": "@jupyter-widgets/base",
      "_view_module_version": "1.2.0",
      "_view_name": "LayoutView",
      "align_content": null,
      "align_items": null,
      "align_self": null,
      "border": null,
      "bottom": null,
      "display": null,
      "flex": null,
      "flex_flow": null,
      "grid_area": null,
      "grid_auto_columns": null,
      "grid_auto_flow": null,
      "grid_auto_rows": null,
      "grid_column": null,
      "grid_gap": null,
      "grid_row": null,
      "grid_template_areas": null,
      "grid_template_columns": null,
      "grid_template_rows": null,
      "height": null,
      "justify_content": null,
      "justify_items": null,
      "left": null,
      "margin": null,
      "max_height": null,
      "max_width": null,
      "min_height": null,
      "min_width": null,
      "object_fit": null,
      "object_position": null,
      "order": null,
      "overflow": null,
      "overflow_x": null,
      "overflow_y": null,
      "padding": null,
      "right": null,
      "top": null,
      "visibility": null,
      "width": null
     }
    },
    "7b84a2fbfeb14d7eab3e09e6bf0d9fea": {
     "model_module": "@jupyter-widgets/controls",
     "model_module_version": "1.5.0",
     "model_name": "DescriptionStyleModel",
     "state": {
      "_model_module": "@jupyter-widgets/controls",
      "_model_module_version": "1.5.0",
      "_model_name": "DescriptionStyleModel",
      "_view_count": null,
      "_view_module": "@jupyter-widgets/base",
      "_view_module_version": "1.2.0",
      "_view_name": "StyleView",
      "description_width": ""
     }
    },
    "80c65ee4171e40c89cd3913d7f272ca0": {
     "model_module": "@jupyter-widgets/base",
     "model_module_version": "1.2.0",
     "model_name": "LayoutModel",
     "state": {
      "_model_module": "@jupyter-widgets/base",
      "_model_module_version": "1.2.0",
      "_model_name": "LayoutModel",
      "_view_count": null,
      "_view_module": "@jupyter-widgets/base",
      "_view_module_version": "1.2.0",
      "_view_name": "LayoutView",
      "align_content": null,
      "align_items": null,
      "align_self": null,
      "border": null,
      "bottom": null,
      "display": null,
      "flex": null,
      "flex_flow": null,
      "grid_area": null,
      "grid_auto_columns": null,
      "grid_auto_flow": null,
      "grid_auto_rows": null,
      "grid_column": null,
      "grid_gap": null,
      "grid_row": null,
      "grid_template_areas": null,
      "grid_template_columns": null,
      "grid_template_rows": null,
      "height": null,
      "justify_content": null,
      "justify_items": null,
      "left": null,
      "margin": null,
      "max_height": null,
      "max_width": null,
      "min_height": null,
      "min_width": null,
      "object_fit": null,
      "object_position": null,
      "order": null,
      "overflow": null,
      "overflow_x": null,
      "overflow_y": null,
      "padding": null,
      "right": null,
      "top": null,
      "visibility": null,
      "width": null
     }
    },
    "82be711173b74a0db0e71690d3aec136": {
     "model_module": "@jupyter-widgets/base",
     "model_module_version": "1.2.0",
     "model_name": "LayoutModel",
     "state": {
      "_model_module": "@jupyter-widgets/base",
      "_model_module_version": "1.2.0",
      "_model_name": "LayoutModel",
      "_view_count": null,
      "_view_module": "@jupyter-widgets/base",
      "_view_module_version": "1.2.0",
      "_view_name": "LayoutView",
      "align_content": null,
      "align_items": null,
      "align_self": null,
      "border": null,
      "bottom": null,
      "display": null,
      "flex": null,
      "flex_flow": null,
      "grid_area": null,
      "grid_auto_columns": null,
      "grid_auto_flow": null,
      "grid_auto_rows": null,
      "grid_column": null,
      "grid_gap": null,
      "grid_row": null,
      "grid_template_areas": null,
      "grid_template_columns": null,
      "grid_template_rows": null,
      "height": null,
      "justify_content": null,
      "justify_items": null,
      "left": null,
      "margin": null,
      "max_height": null,
      "max_width": null,
      "min_height": null,
      "min_width": null,
      "object_fit": null,
      "object_position": null,
      "order": null,
      "overflow": null,
      "overflow_x": null,
      "overflow_y": null,
      "padding": null,
      "right": null,
      "top": null,
      "visibility": null,
      "width": null
     }
    },
    "8f00febedaa549fcb474af191d04fad0": {
     "model_module": "@jupyter-widgets/base",
     "model_module_version": "1.2.0",
     "model_name": "LayoutModel",
     "state": {
      "_model_module": "@jupyter-widgets/base",
      "_model_module_version": "1.2.0",
      "_model_name": "LayoutModel",
      "_view_count": null,
      "_view_module": "@jupyter-widgets/base",
      "_view_module_version": "1.2.0",
      "_view_name": "LayoutView",
      "align_content": null,
      "align_items": null,
      "align_self": null,
      "border": null,
      "bottom": null,
      "display": null,
      "flex": null,
      "flex_flow": null,
      "grid_area": null,
      "grid_auto_columns": null,
      "grid_auto_flow": null,
      "grid_auto_rows": null,
      "grid_column": null,
      "grid_gap": null,
      "grid_row": null,
      "grid_template_areas": null,
      "grid_template_columns": null,
      "grid_template_rows": null,
      "height": null,
      "justify_content": null,
      "justify_items": null,
      "left": null,
      "margin": null,
      "max_height": null,
      "max_width": null,
      "min_height": null,
      "min_width": null,
      "object_fit": null,
      "object_position": null,
      "order": null,
      "overflow": null,
      "overflow_x": null,
      "overflow_y": null,
      "padding": null,
      "right": null,
      "top": null,
      "visibility": null,
      "width": null
     }
    },
    "91a5db00c75241d7b20544fd58f4d4ee": {
     "model_module": "@jupyter-widgets/base",
     "model_module_version": "1.2.0",
     "model_name": "LayoutModel",
     "state": {
      "_model_module": "@jupyter-widgets/base",
      "_model_module_version": "1.2.0",
      "_model_name": "LayoutModel",
      "_view_count": null,
      "_view_module": "@jupyter-widgets/base",
      "_view_module_version": "1.2.0",
      "_view_name": "LayoutView",
      "align_content": null,
      "align_items": null,
      "align_self": null,
      "border": null,
      "bottom": null,
      "display": null,
      "flex": null,
      "flex_flow": null,
      "grid_area": null,
      "grid_auto_columns": null,
      "grid_auto_flow": null,
      "grid_auto_rows": null,
      "grid_column": null,
      "grid_gap": null,
      "grid_row": null,
      "grid_template_areas": null,
      "grid_template_columns": null,
      "grid_template_rows": null,
      "height": null,
      "justify_content": null,
      "justify_items": null,
      "left": null,
      "margin": null,
      "max_height": null,
      "max_width": null,
      "min_height": null,
      "min_width": null,
      "object_fit": null,
      "object_position": null,
      "order": null,
      "overflow": null,
      "overflow_x": null,
      "overflow_y": null,
      "padding": null,
      "right": null,
      "top": null,
      "visibility": null,
      "width": null
     }
    },
    "920b01259710401298a5dce31dcb019f": {
     "model_module": "@jupyter-widgets/base",
     "model_module_version": "1.2.0",
     "model_name": "LayoutModel",
     "state": {
      "_model_module": "@jupyter-widgets/base",
      "_model_module_version": "1.2.0",
      "_model_name": "LayoutModel",
      "_view_count": null,
      "_view_module": "@jupyter-widgets/base",
      "_view_module_version": "1.2.0",
      "_view_name": "LayoutView",
      "align_content": null,
      "align_items": null,
      "align_self": null,
      "border": null,
      "bottom": null,
      "display": null,
      "flex": null,
      "flex_flow": null,
      "grid_area": null,
      "grid_auto_columns": null,
      "grid_auto_flow": null,
      "grid_auto_rows": null,
      "grid_column": null,
      "grid_gap": null,
      "grid_row": null,
      "grid_template_areas": null,
      "grid_template_columns": null,
      "grid_template_rows": null,
      "height": null,
      "justify_content": null,
      "justify_items": null,
      "left": null,
      "margin": null,
      "max_height": null,
      "max_width": null,
      "min_height": null,
      "min_width": null,
      "object_fit": null,
      "object_position": null,
      "order": null,
      "overflow": null,
      "overflow_x": null,
      "overflow_y": null,
      "padding": null,
      "right": null,
      "top": null,
      "visibility": null,
      "width": null
     }
    },
    "92e3007fa37e4d73aa45138409c1e536": {
     "model_module": "@jupyter-widgets/base",
     "model_module_version": "1.2.0",
     "model_name": "LayoutModel",
     "state": {
      "_model_module": "@jupyter-widgets/base",
      "_model_module_version": "1.2.0",
      "_model_name": "LayoutModel",
      "_view_count": null,
      "_view_module": "@jupyter-widgets/base",
      "_view_module_version": "1.2.0",
      "_view_name": "LayoutView",
      "align_content": null,
      "align_items": null,
      "align_self": null,
      "border": null,
      "bottom": null,
      "display": null,
      "flex": null,
      "flex_flow": null,
      "grid_area": null,
      "grid_auto_columns": null,
      "grid_auto_flow": null,
      "grid_auto_rows": null,
      "grid_column": null,
      "grid_gap": null,
      "grid_row": null,
      "grid_template_areas": null,
      "grid_template_columns": null,
      "grid_template_rows": null,
      "height": null,
      "justify_content": null,
      "justify_items": null,
      "left": null,
      "margin": null,
      "max_height": null,
      "max_width": null,
      "min_height": null,
      "min_width": null,
      "object_fit": null,
      "object_position": null,
      "order": null,
      "overflow": null,
      "overflow_x": null,
      "overflow_y": null,
      "padding": null,
      "right": null,
      "top": null,
      "visibility": null,
      "width": null
     }
    },
    "954177121ae94a98a3dc19d2b26f86a8": {
     "model_module": "@jupyter-widgets/controls",
     "model_module_version": "1.5.0",
     "model_name": "ProgressStyleModel",
     "state": {
      "_model_module": "@jupyter-widgets/controls",
      "_model_module_version": "1.5.0",
      "_model_name": "ProgressStyleModel",
      "_view_count": null,
      "_view_module": "@jupyter-widgets/base",
      "_view_module_version": "1.2.0",
      "_view_name": "StyleView",
      "bar_color": null,
      "description_width": ""
     }
    },
    "962e46b2f9f34f4282f21280fe23624a": {
     "model_module": "@jupyter-widgets/base",
     "model_module_version": "1.2.0",
     "model_name": "LayoutModel",
     "state": {
      "_model_module": "@jupyter-widgets/base",
      "_model_module_version": "1.2.0",
      "_model_name": "LayoutModel",
      "_view_count": null,
      "_view_module": "@jupyter-widgets/base",
      "_view_module_version": "1.2.0",
      "_view_name": "LayoutView",
      "align_content": null,
      "align_items": null,
      "align_self": null,
      "border": null,
      "bottom": null,
      "display": null,
      "flex": null,
      "flex_flow": null,
      "grid_area": null,
      "grid_auto_columns": null,
      "grid_auto_flow": null,
      "grid_auto_rows": null,
      "grid_column": null,
      "grid_gap": null,
      "grid_row": null,
      "grid_template_areas": null,
      "grid_template_columns": null,
      "grid_template_rows": null,
      "height": null,
      "justify_content": null,
      "justify_items": null,
      "left": null,
      "margin": null,
      "max_height": null,
      "max_width": null,
      "min_height": null,
      "min_width": null,
      "object_fit": null,
      "object_position": null,
      "order": null,
      "overflow": null,
      "overflow_x": null,
      "overflow_y": null,
      "padding": null,
      "right": null,
      "top": null,
      "visibility": null,
      "width": null
     }
    },
    "9b8bc76ee516454d8e9a70dbe669268a": {
     "model_module": "@jupyter-widgets/controls",
     "model_module_version": "1.5.0",
     "model_name": "HTMLModel",
     "state": {
      "_dom_classes": [],
      "_model_module": "@jupyter-widgets/controls",
      "_model_module_version": "1.5.0",
      "_model_name": "HTMLModel",
      "_view_count": null,
      "_view_module": "@jupyter-widgets/controls",
      "_view_module_version": "1.5.0",
      "_view_name": "HTMLView",
      "description": "",
      "description_tooltip": null,
      "layout": "IPY_MODEL_45646d83dbb44f31be0b402d44b0d24a",
      "placeholder": "​",
      "style": "IPY_MODEL_7b84a2fbfeb14d7eab3e09e6bf0d9fea",
      "value": " 8.86k/8.86k [00:00&lt;00:00, 169kB/s]"
     }
    },
    "9e7522ba06ba44ffabfde84a749a327a": {
     "model_module": "@jupyter-widgets/controls",
     "model_module_version": "1.5.0",
     "model_name": "HTMLModel",
     "state": {
      "_dom_classes": [],
      "_model_module": "@jupyter-widgets/controls",
      "_model_module_version": "1.5.0",
      "_model_name": "HTMLModel",
      "_view_count": null,
      "_view_module": "@jupyter-widgets/controls",
      "_view_module_version": "1.5.0",
      "_view_name": "HTMLView",
      "description": "",
      "description_tooltip": null,
      "layout": "IPY_MODEL_91a5db00c75241d7b20544fd58f4d4ee",
      "placeholder": "​",
      "style": "IPY_MODEL_63178ada22474535aa1a02b787e5932a",
      "value": "Downloading data: 100%"
     }
    },
    "a296b2333ae54d79a2a72e1fc71c1d35": {
     "model_module": "@jupyter-widgets/controls",
     "model_module_version": "1.5.0",
     "model_name": "FloatProgressModel",
     "state": {
      "_dom_classes": [],
      "_model_module": "@jupyter-widgets/controls",
      "_model_module_version": "1.5.0",
      "_model_name": "FloatProgressModel",
      "_view_count": null,
      "_view_module": "@jupyter-widgets/controls",
      "_view_module_version": "1.5.0",
      "_view_name": "ProgressView",
      "bar_style": "success",
      "description": "",
      "description_tooltip": null,
      "layout": "IPY_MODEL_3f2a23d96c264ce3ae519fd4952b7d3b",
      "max": 6036,
      "min": 0,
      "orientation": "horizontal",
      "style": "IPY_MODEL_6e2c97f58c1c4a75bd91ee384d78a4c0",
      "value": 6036
     }
    },
    "b9a374e601a640af9a18f5215f47a1f7": {
     "model_module": "@jupyter-widgets/controls",
     "model_module_version": "1.5.0",
     "model_name": "DescriptionStyleModel",
     "state": {
      "_model_module": "@jupyter-widgets/controls",
      "_model_module_version": "1.5.0",
      "_model_name": "DescriptionStyleModel",
      "_view_count": null,
      "_view_module": "@jupyter-widgets/base",
      "_view_module_version": "1.2.0",
      "_view_name": "StyleView",
      "description_width": ""
     }
    },
    "bb6ede34bb8a41558cb5524e2903e2a5": {
     "model_module": "@jupyter-widgets/controls",
     "model_module_version": "1.5.0",
     "model_name": "DescriptionStyleModel",
     "state": {
      "_model_module": "@jupyter-widgets/controls",
      "_model_module_version": "1.5.0",
      "_model_name": "DescriptionStyleModel",
      "_view_count": null,
      "_view_module": "@jupyter-widgets/base",
      "_view_module_version": "1.2.0",
      "_view_name": "StyleView",
      "description_width": ""
     }
    },
    "d0a2fcaaeb734fb3bbfb3436a169358c": {
     "model_module": "@jupyter-widgets/controls",
     "model_module_version": "1.5.0",
     "model_name": "FloatProgressModel",
     "state": {
      "_dom_classes": [],
      "_model_module": "@jupyter-widgets/controls",
      "_model_module_version": "1.5.0",
      "_model_name": "FloatProgressModel",
      "_view_count": null,
      "_view_module": "@jupyter-widgets/controls",
      "_view_module_version": "1.5.0",
      "_view_name": "ProgressView",
      "bar_style": "",
      "description": "",
      "description_tooltip": null,
      "layout": "IPY_MODEL_0c8457b60a3445509f878a5edba88c81",
      "max": 2264,
      "min": 0,
      "orientation": "horizontal",
      "style": "IPY_MODEL_06b5d6c4b85745e99a3cf57627f882e2",
      "value": 2264
     }
    },
    "d1d553a631924b74ae247e9a92bb6336": {
     "model_module": "@jupyter-widgets/controls",
     "model_module_version": "1.5.0",
     "model_name": "HTMLModel",
     "state": {
      "_dom_classes": [],
      "_model_module": "@jupyter-widgets/controls",
      "_model_module_version": "1.5.0",
      "_model_name": "HTMLModel",
      "_view_count": null,
      "_view_module": "@jupyter-widgets/controls",
      "_view_module_version": "1.5.0",
      "_view_name": "HTMLView",
      "description": "",
      "description_tooltip": null,
      "layout": "IPY_MODEL_5b337ace8112461aaf8cac812f94c630",
      "placeholder": "​",
      "style": "IPY_MODEL_7080658a4e174bb5bd202fa89e1999fb",
      "value": "Downloading readme: 100%"
     }
    },
    "d1dc512bb2934c17a350f90a8b04dd93": {
     "model_module": "@jupyter-widgets/controls",
     "model_module_version": "1.5.0",
     "model_name": "HBoxModel",
     "state": {
      "_dom_classes": [],
      "_model_module": "@jupyter-widgets/controls",
      "_model_module_version": "1.5.0",
      "_model_name": "HBoxModel",
      "_view_count": null,
      "_view_module": "@jupyter-widgets/controls",
      "_view_module_version": "1.5.0",
      "_view_name": "HBoxView",
      "box_style": "",
      "children": [
       "IPY_MODEL_9e7522ba06ba44ffabfde84a749a327a",
       "IPY_MODEL_1eadaf8492ec43a9b312c8291e97367e",
       "IPY_MODEL_f067cda586fe4a37ad8c04a263d02e2c"
      ],
      "layout": "IPY_MODEL_d1ffa145fde84d878feaff3cf7584caf"
     }
    },
    "d1ffa145fde84d878feaff3cf7584caf": {
     "model_module": "@jupyter-widgets/base",
     "model_module_version": "1.2.0",
     "model_name": "LayoutModel",
     "state": {
      "_model_module": "@jupyter-widgets/base",
      "_model_module_version": "1.2.0",
      "_model_name": "LayoutModel",
      "_view_count": null,
      "_view_module": "@jupyter-widgets/base",
      "_view_module_version": "1.2.0",
      "_view_name": "LayoutView",
      "align_content": null,
      "align_items": null,
      "align_self": null,
      "border": null,
      "bottom": null,
      "display": null,
      "flex": null,
      "flex_flow": null,
      "grid_area": null,
      "grid_auto_columns": null,
      "grid_auto_flow": null,
      "grid_auto_rows": null,
      "grid_column": null,
      "grid_gap": null,
      "grid_row": null,
      "grid_template_areas": null,
      "grid_template_columns": null,
      "grid_template_rows": null,
      "height": null,
      "justify_content": null,
      "justify_items": null,
      "left": null,
      "margin": null,
      "max_height": null,
      "max_width": null,
      "min_height": null,
      "min_width": null,
      "object_fit": null,
      "object_position": null,
      "order": null,
      "overflow": null,
      "overflow_x": null,
      "overflow_y": null,
      "padding": null,
      "right": null,
      "top": null,
      "visibility": null,
      "width": null
     }
    },
    "d9e87452e4814402ad348dfba717fb24": {
     "model_module": "@jupyter-widgets/controls",
     "model_module_version": "1.5.0",
     "model_name": "FloatProgressModel",
     "state": {
      "_dom_classes": [],
      "_model_module": "@jupyter-widgets/controls",
      "_model_module_version": "1.5.0",
      "_model_name": "FloatProgressModel",
      "_view_count": null,
      "_view_module": "@jupyter-widgets/controls",
      "_view_module_version": "1.5.0",
      "_view_name": "ProgressView",
      "bar_style": "success",
      "description": "",
      "description_tooltip": null,
      "layout": "IPY_MODEL_92e3007fa37e4d73aa45138409c1e536",
      "max": 13677,
      "min": 0,
      "orientation": "horizontal",
      "style": "IPY_MODEL_954177121ae94a98a3dc19d2b26f86a8",
      "value": 13677
     }
    },
    "f067cda586fe4a37ad8c04a263d02e2c": {
     "model_module": "@jupyter-widgets/controls",
     "model_module_version": "1.5.0",
     "model_name": "HTMLModel",
     "state": {
      "_dom_classes": [],
      "_model_module": "@jupyter-widgets/controls",
      "_model_module_version": "1.5.0",
      "_model_name": "HTMLModel",
      "_view_count": null,
      "_view_module": "@jupyter-widgets/controls",
      "_view_module_version": "1.5.0",
      "_view_name": "HTMLView",
      "description": "",
      "description_tooltip": null,
      "layout": "IPY_MODEL_920b01259710401298a5dce31dcb019f",
      "placeholder": "​",
      "style": "IPY_MODEL_4aef59b1a66d47ae8081627b54fae50b",
      "value": " 682k/682k [00:00&lt;00:00, 768kB/s]"
     }
    },
    "f3e6d09dcddd4d33be00add7b9d0ec9c": {
     "model_module": "@jupyter-widgets/controls",
     "model_module_version": "1.5.0",
     "model_name": "ProgressStyleModel",
     "state": {
      "_model_module": "@jupyter-widgets/controls",
      "_model_module_version": "1.5.0",
      "_model_name": "ProgressStyleModel",
      "_view_count": null,
      "_view_module": "@jupyter-widgets/base",
      "_view_module_version": "1.2.0",
      "_view_name": "StyleView",
      "bar_color": null,
      "description_width": ""
     }
    }
   }
  }
 },
 "nbformat": 4,
 "nbformat_minor": 1
}
