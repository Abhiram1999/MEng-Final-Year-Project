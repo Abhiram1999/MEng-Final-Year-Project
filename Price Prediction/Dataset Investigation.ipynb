{
 "cells": [
  {
   "cell_type": "code",
   "execution_count": 8,
   "id": "5b3c79f0",
   "metadata": {},
   "outputs": [],
   "source": [
    "import pandas as pd\n",
    "import seaborn as sns\n",
    "\n",
    "KC = pd.read_csv(\"KO.csv\")"
   ]
  },
  {
   "cell_type": "code",
   "execution_count": 2,
   "id": "982caf35",
   "metadata": {},
   "outputs": [
    {
     "data": {
      "text/html": [
       "<div>\n",
       "<style scoped>\n",
       "    .dataframe tbody tr th:only-of-type {\n",
       "        vertical-align: middle;\n",
       "    }\n",
       "\n",
       "    .dataframe tbody tr th {\n",
       "        vertical-align: top;\n",
       "    }\n",
       "\n",
       "    .dataframe thead th {\n",
       "        text-align: right;\n",
       "    }\n",
       "</style>\n",
       "<table border=\"1\" class=\"dataframe\">\n",
       "  <thead>\n",
       "    <tr style=\"text-align: right;\">\n",
       "      <th></th>\n",
       "      <th>Date</th>\n",
       "      <th>Open</th>\n",
       "      <th>High</th>\n",
       "      <th>Low</th>\n",
       "      <th>Close</th>\n",
       "      <th>Adj Close</th>\n",
       "      <th>Volume</th>\n",
       "    </tr>\n",
       "  </thead>\n",
       "  <tbody>\n",
       "    <tr>\n",
       "      <th>0</th>\n",
       "      <td>2009-01-02</td>\n",
       "      <td>22.700001</td>\n",
       "      <td>23.000000</td>\n",
       "      <td>22.520000</td>\n",
       "      <td>22.950001</td>\n",
       "      <td>14.837942</td>\n",
       "      <td>16355800</td>\n",
       "    </tr>\n",
       "    <tr>\n",
       "      <th>1</th>\n",
       "      <td>2009-01-05</td>\n",
       "      <td>22.785000</td>\n",
       "      <td>22.945000</td>\n",
       "      <td>22.590000</td>\n",
       "      <td>22.719999</td>\n",
       "      <td>14.689242</td>\n",
       "      <td>20237200</td>\n",
       "    </tr>\n",
       "    <tr>\n",
       "      <th>2</th>\n",
       "      <td>2009-01-06</td>\n",
       "      <td>22.850000</td>\n",
       "      <td>22.985001</td>\n",
       "      <td>22.230000</td>\n",
       "      <td>22.355000</td>\n",
       "      <td>14.453258</td>\n",
       "      <td>21307800</td>\n",
       "    </tr>\n",
       "    <tr>\n",
       "      <th>3</th>\n",
       "      <td>2009-01-07</td>\n",
       "      <td>22.110001</td>\n",
       "      <td>22.590000</td>\n",
       "      <td>22.110001</td>\n",
       "      <td>22.465000</td>\n",
       "      <td>14.524368</td>\n",
       "      <td>21581000</td>\n",
       "    </tr>\n",
       "    <tr>\n",
       "      <th>4</th>\n",
       "      <td>2009-01-08</td>\n",
       "      <td>22.420000</td>\n",
       "      <td>22.639999</td>\n",
       "      <td>22.280001</td>\n",
       "      <td>22.620001</td>\n",
       "      <td>14.624588</td>\n",
       "      <td>20087000</td>\n",
       "    </tr>\n",
       "  </tbody>\n",
       "</table>\n",
       "</div>"
      ],
      "text/plain": [
       "         Date       Open       High        Low      Close  Adj Close    Volume\n",
       "0  2009-01-02  22.700001  23.000000  22.520000  22.950001  14.837942  16355800\n",
       "1  2009-01-05  22.785000  22.945000  22.590000  22.719999  14.689242  20237200\n",
       "2  2009-01-06  22.850000  22.985001  22.230000  22.355000  14.453258  21307800\n",
       "3  2009-01-07  22.110001  22.590000  22.110001  22.465000  14.524368  21581000\n",
       "4  2009-01-08  22.420000  22.639999  22.280001  22.620001  14.624588  20087000"
      ]
     },
     "execution_count": 2,
     "metadata": {},
     "output_type": "execute_result"
    }
   ],
   "source": [
    "KC.head()"
   ]
  },
  {
   "cell_type": "code",
   "execution_count": 6,
   "id": "ef84a5f2",
   "metadata": {},
   "outputs": [
    {
     "name": "stdout",
     "output_type": "stream",
     "text": [
      "               Open      High       Low     Close  Adj Close    Volume\n",
      "Open       1.000000  0.999593  0.999550  0.999068   0.981870 -0.452769\n",
      "High       0.999593  1.000000  0.999496  0.999583   0.982536 -0.445786\n",
      "Low        0.999550  0.999496  1.000000  0.999595   0.981989 -0.460642\n",
      "Close      0.999068  0.999583  0.999595  1.000000   0.982447 -0.453341\n",
      "Adj Close  0.981870  0.982536  0.981989  0.982447   1.000000 -0.434967\n",
      "Volume    -0.452769 -0.445786 -0.460642 -0.453341  -0.434967  1.000000\n"
     ]
    },
    {
     "name": "stderr",
     "output_type": "stream",
     "text": [
      "C:\\Users\\abhir\\AppData\\Local\\Temp\\ipykernel_28140\\542030452.py:1: FutureWarning: The default value of numeric_only in DataFrame.corr is deprecated. In a future version, it will default to False. Select only valid columns or specify the value of numeric_only to silence this warning.\n",
      "  print(KC.corr())\n"
     ]
    }
   ],
   "source": [
    "print(KC.corr())"
   ]
  },
  {
   "cell_type": "code",
   "execution_count": 10,
   "id": "79618ddc",
   "metadata": {},
   "outputs": [
    {
     "name": "stderr",
     "output_type": "stream",
     "text": [
      "C:\\Users\\abhir\\AppData\\Local\\Temp\\ipykernel_28140\\1269226343.py:1: FutureWarning: The default value of numeric_only in DataFrame.corr is deprecated. In a future version, it will default to False. Select only valid columns or specify the value of numeric_only to silence this warning.\n",
      "  sns.heatmap(KC.corr(), xticklabels=KC.corr().columns.values, yticklabels=KC.corr().columns.values)\n"
     ]
    },
    {
     "data": {
      "text/plain": [
       "<AxesSubplot: >"
      ]
     },
     "execution_count": 10,
     "metadata": {},
     "output_type": "execute_result"
    },
    {
     "data": {
      "image/png": "[encoded data removed]",
      "text/plain": [
       "<Figure size 640x480 with 2 Axes>"
      ]
     },
     "metadata": {},
     "output_type": "display_data"
    }
   ],
   "source": [
    "sns.heatmap(KC.corr(), xticklabels=KC.corr().columns.values, yticklabels=KC.corr().columns.values)"
   ]
  }
 ],
 "metadata": {
  "kernelspec": {
   "display_name": "Python 3 (ipykernel)",
   "language": "python",
   "name": "python3"
  },
  "language_info": {
   "codemirror_mode": {
    "name": "ipython",
    "version": 3
   },
   "file_extension": ".py",
   "mimetype": "text/x-python",
   "name": "python",
   "nbconvert_exporter": "python",
   "pygments_lexer": "ipython3",
   "version": "3.10.7"
  }
 },
 "nbformat": 4,
 "nbformat_minor": 5
}
